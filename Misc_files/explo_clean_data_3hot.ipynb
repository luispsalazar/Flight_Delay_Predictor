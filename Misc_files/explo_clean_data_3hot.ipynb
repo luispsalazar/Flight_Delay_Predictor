{
 "cells": [
  {
   "cell_type": "code",
   "execution_count": 1,
   "metadata": {},
   "outputs": [],
   "source": [
    "import pandas as pd\n",
    "import matplotlib.pyplot as plt\n",
    "import seaborn as sns\n",
    "import numpy as np"
   ]
  },
  {
   "cell_type": "code",
   "execution_count": 2,
   "metadata": {},
   "outputs": [],
   "source": [
    "# for PCA transformation\n",
    "from sklearn.preprocessing import StandardScaler\n",
    "from sklearn.decomposition import PCA\n",
    "from sklearn.preprocessing import OneHotEncoder"
   ]
  },
  {
   "cell_type": "markdown",
   "metadata": {},
   "source": [
    "# Remove nrows when ready for full dataset\n",
    "\n",
    "# Remove 2K from name in last block for complete file"
   ]
  },
  {
   "cell_type": "code",
   "execution_count": 3,
   "metadata": {
    "scrolled": true
   },
   "outputs": [],
   "source": [
    "# WARNING, FILE \"mergefiles.csv\" IS 1.37 GB\n",
    "\n",
    "delay_data = pd.read_csv(\"./Resources/mergefiles.csv\", encoding = 'utf-8') #, nrows = 200000)\n",
    "delay = pd.DataFrame(delay_data)"
   ]
  },
  {
   "cell_type": "markdown",
   "metadata": {},
   "source": [
    "# 1. Data Exploration"
   ]
  },
  {
   "cell_type": "code",
   "execution_count": 4,
   "metadata": {},
   "outputs": [
    {
     "data": {
      "text/plain": [
       "MONTH                              int64\n",
       "DAY_OF_WEEK                        int64\n",
       "DEP_DEL15                          int64\n",
       "DEP_TIME_BLK                      object\n",
       "DISTANCE_GROUP                     int64\n",
       "SEGMENT_NUMBER                     int64\n",
       "CONCURRENT_FLIGHTS                 int64\n",
       "NUMBER_OF_SEATS                    int64\n",
       "CARRIER_NAME                      object\n",
       "AIRPORT_FLIGHTS_MONTH              int64\n",
       "AIRLINE_FLIGHTS_MONTH              int64\n",
       "AIRLINE_AIRPORT_FLIGHTS_MONTH      int64\n",
       "AVG_MONTHLY_PASS_AIRPORT           int64\n",
       "AVG_MONTHLY_PASS_AIRLINE           int64\n",
       "FLT_ATTENDANTS_PER_PASS          float64\n",
       "GROUND_SERV_PER_PASS             float64\n",
       "PLANE_AGE                          int64\n",
       "DEPARTING_AIRPORT                 object\n",
       "LATITUDE                         float64\n",
       "LONGITUDE                        float64\n",
       "PREVIOUS_AIRPORT                  object\n",
       "PRCP                             float64\n",
       "SNOW                             float64\n",
       "SNWD                             float64\n",
       "TMAX                             float64\n",
       "AWND                             float64\n",
       "dtype: object"
      ]
     },
     "execution_count": 4,
     "metadata": {},
     "output_type": "execute_result"
    }
   ],
   "source": [
    "# Data type\n",
    "delay.dtypes"
   ]
  },
  {
   "cell_type": "code",
   "execution_count": 5,
   "metadata": {},
   "outputs": [
    {
     "data": {
      "text/html": [
       "<div>\n",
       "<style scoped>\n",
       "    .dataframe tbody tr th:only-of-type {\n",
       "        vertical-align: middle;\n",
       "    }\n",
       "\n",
       "    .dataframe tbody tr th {\n",
       "        vertical-align: top;\n",
       "    }\n",
       "\n",
       "    .dataframe thead th {\n",
       "        text-align: right;\n",
       "    }\n",
       "</style>\n",
       "<table border=\"1\" class=\"dataframe\">\n",
       "  <thead>\n",
       "    <tr style=\"text-align: right;\">\n",
       "      <th></th>\n",
       "      <th>MONTH</th>\n",
       "      <th>DAY_OF_WEEK</th>\n",
       "      <th>DEP_DEL15</th>\n",
       "      <th>DEP_TIME_BLK</th>\n",
       "      <th>DISTANCE_GROUP</th>\n",
       "      <th>SEGMENT_NUMBER</th>\n",
       "      <th>CONCURRENT_FLIGHTS</th>\n",
       "      <th>NUMBER_OF_SEATS</th>\n",
       "      <th>CARRIER_NAME</th>\n",
       "      <th>AIRPORT_FLIGHTS_MONTH</th>\n",
       "      <th>...</th>\n",
       "      <th>PLANE_AGE</th>\n",
       "      <th>DEPARTING_AIRPORT</th>\n",
       "      <th>LATITUDE</th>\n",
       "      <th>LONGITUDE</th>\n",
       "      <th>PREVIOUS_AIRPORT</th>\n",
       "      <th>PRCP</th>\n",
       "      <th>SNOW</th>\n",
       "      <th>SNWD</th>\n",
       "      <th>TMAX</th>\n",
       "      <th>AWND</th>\n",
       "    </tr>\n",
       "  </thead>\n",
       "  <tbody>\n",
       "    <tr>\n",
       "      <th>0</th>\n",
       "      <td>1</td>\n",
       "      <td>7</td>\n",
       "      <td>0</td>\n",
       "      <td>0800-0859</td>\n",
       "      <td>2</td>\n",
       "      <td>1</td>\n",
       "      <td>25</td>\n",
       "      <td>143</td>\n",
       "      <td>Southwest Airlines Co.</td>\n",
       "      <td>13056</td>\n",
       "      <td>...</td>\n",
       "      <td>8</td>\n",
       "      <td>McCarran International</td>\n",
       "      <td>36.08</td>\n",
       "      <td>-115.152</td>\n",
       "      <td>NONE</td>\n",
       "      <td>0.0</td>\n",
       "      <td>0.0</td>\n",
       "      <td>0.0</td>\n",
       "      <td>65.0</td>\n",
       "      <td>2.91</td>\n",
       "    </tr>\n",
       "    <tr>\n",
       "      <th>1</th>\n",
       "      <td>1</td>\n",
       "      <td>7</td>\n",
       "      <td>0</td>\n",
       "      <td>0700-0759</td>\n",
       "      <td>7</td>\n",
       "      <td>1</td>\n",
       "      <td>29</td>\n",
       "      <td>191</td>\n",
       "      <td>Delta Air Lines Inc.</td>\n",
       "      <td>13056</td>\n",
       "      <td>...</td>\n",
       "      <td>3</td>\n",
       "      <td>McCarran International</td>\n",
       "      <td>36.08</td>\n",
       "      <td>-115.152</td>\n",
       "      <td>NONE</td>\n",
       "      <td>0.0</td>\n",
       "      <td>0.0</td>\n",
       "      <td>0.0</td>\n",
       "      <td>65.0</td>\n",
       "      <td>2.91</td>\n",
       "    </tr>\n",
       "    <tr>\n",
       "      <th>2</th>\n",
       "      <td>1</td>\n",
       "      <td>7</td>\n",
       "      <td>0</td>\n",
       "      <td>0600-0659</td>\n",
       "      <td>7</td>\n",
       "      <td>1</td>\n",
       "      <td>27</td>\n",
       "      <td>199</td>\n",
       "      <td>Delta Air Lines Inc.</td>\n",
       "      <td>13056</td>\n",
       "      <td>...</td>\n",
       "      <td>18</td>\n",
       "      <td>McCarran International</td>\n",
       "      <td>36.08</td>\n",
       "      <td>-115.152</td>\n",
       "      <td>NONE</td>\n",
       "      <td>0.0</td>\n",
       "      <td>0.0</td>\n",
       "      <td>0.0</td>\n",
       "      <td>65.0</td>\n",
       "      <td>2.91</td>\n",
       "    </tr>\n",
       "    <tr>\n",
       "      <th>3</th>\n",
       "      <td>1</td>\n",
       "      <td>7</td>\n",
       "      <td>0</td>\n",
       "      <td>0600-0659</td>\n",
       "      <td>9</td>\n",
       "      <td>1</td>\n",
       "      <td>27</td>\n",
       "      <td>180</td>\n",
       "      <td>Delta Air Lines Inc.</td>\n",
       "      <td>13056</td>\n",
       "      <td>...</td>\n",
       "      <td>2</td>\n",
       "      <td>McCarran International</td>\n",
       "      <td>36.08</td>\n",
       "      <td>-115.152</td>\n",
       "      <td>NONE</td>\n",
       "      <td>0.0</td>\n",
       "      <td>0.0</td>\n",
       "      <td>0.0</td>\n",
       "      <td>65.0</td>\n",
       "      <td>2.91</td>\n",
       "    </tr>\n",
       "    <tr>\n",
       "      <th>4</th>\n",
       "      <td>1</td>\n",
       "      <td>7</td>\n",
       "      <td>0</td>\n",
       "      <td>0001-0559</td>\n",
       "      <td>7</td>\n",
       "      <td>1</td>\n",
       "      <td>10</td>\n",
       "      <td>182</td>\n",
       "      <td>Spirit Air Lines</td>\n",
       "      <td>13056</td>\n",
       "      <td>...</td>\n",
       "      <td>1</td>\n",
       "      <td>McCarran International</td>\n",
       "      <td>36.08</td>\n",
       "      <td>-115.152</td>\n",
       "      <td>NONE</td>\n",
       "      <td>0.0</td>\n",
       "      <td>0.0</td>\n",
       "      <td>0.0</td>\n",
       "      <td>65.0</td>\n",
       "      <td>2.91</td>\n",
       "    </tr>\n",
       "  </tbody>\n",
       "</table>\n",
       "<p>5 rows × 26 columns</p>\n",
       "</div>"
      ],
      "text/plain": [
       "   MONTH  DAY_OF_WEEK  DEP_DEL15 DEP_TIME_BLK  DISTANCE_GROUP  SEGMENT_NUMBER  \\\n",
       "0      1            7          0    0800-0859               2               1   \n",
       "1      1            7          0    0700-0759               7               1   \n",
       "2      1            7          0    0600-0659               7               1   \n",
       "3      1            7          0    0600-0659               9               1   \n",
       "4      1            7          0    0001-0559               7               1   \n",
       "\n",
       "   CONCURRENT_FLIGHTS  NUMBER_OF_SEATS            CARRIER_NAME  \\\n",
       "0                  25              143  Southwest Airlines Co.   \n",
       "1                  29              191    Delta Air Lines Inc.   \n",
       "2                  27              199    Delta Air Lines Inc.   \n",
       "3                  27              180    Delta Air Lines Inc.   \n",
       "4                  10              182        Spirit Air Lines   \n",
       "\n",
       "   AIRPORT_FLIGHTS_MONTH  ...  PLANE_AGE       DEPARTING_AIRPORT  LATITUDE  \\\n",
       "0                  13056  ...          8  McCarran International     36.08   \n",
       "1                  13056  ...          3  McCarran International     36.08   \n",
       "2                  13056  ...         18  McCarran International     36.08   \n",
       "3                  13056  ...          2  McCarran International     36.08   \n",
       "4                  13056  ...          1  McCarran International     36.08   \n",
       "\n",
       "   LONGITUDE  PREVIOUS_AIRPORT  PRCP  SNOW SNWD  TMAX  AWND  \n",
       "0   -115.152              NONE   0.0   0.0  0.0  65.0  2.91  \n",
       "1   -115.152              NONE   0.0   0.0  0.0  65.0  2.91  \n",
       "2   -115.152              NONE   0.0   0.0  0.0  65.0  2.91  \n",
       "3   -115.152              NONE   0.0   0.0  0.0  65.0  2.91  \n",
       "4   -115.152              NONE   0.0   0.0  0.0  65.0  2.91  \n",
       "\n",
       "[5 rows x 26 columns]"
      ]
     },
     "execution_count": 5,
     "metadata": {},
     "output_type": "execute_result"
    }
   ],
   "source": [
    "delay.drop_duplicates()\n",
    "delay.head()"
   ]
  },
  {
   "cell_type": "code",
   "execution_count": 6,
   "metadata": {
    "scrolled": true
   },
   "outputs": [
    {
     "data": {
      "text/plain": [
       "MONTH                            0\n",
       "DAY_OF_WEEK                      0\n",
       "DEP_DEL15                        0\n",
       "DEP_TIME_BLK                     0\n",
       "DISTANCE_GROUP                   0\n",
       "SEGMENT_NUMBER                   0\n",
       "CONCURRENT_FLIGHTS               0\n",
       "NUMBER_OF_SEATS                  0\n",
       "CARRIER_NAME                     0\n",
       "AIRPORT_FLIGHTS_MONTH            0\n",
       "AIRLINE_FLIGHTS_MONTH            0\n",
       "AIRLINE_AIRPORT_FLIGHTS_MONTH    0\n",
       "AVG_MONTHLY_PASS_AIRPORT         0\n",
       "AVG_MONTHLY_PASS_AIRLINE         0\n",
       "FLT_ATTENDANTS_PER_PASS          0\n",
       "GROUND_SERV_PER_PASS             0\n",
       "PLANE_AGE                        0\n",
       "DEPARTING_AIRPORT                0\n",
       "LATITUDE                         0\n",
       "LONGITUDE                        0\n",
       "PREVIOUS_AIRPORT                 0\n",
       "PRCP                             0\n",
       "SNOW                             0\n",
       "SNWD                             0\n",
       "TMAX                             0\n",
       "AWND                             0\n",
       "dtype: int64"
      ]
     },
     "execution_count": 6,
     "metadata": {},
     "output_type": "execute_result"
    }
   ],
   "source": [
    "# Missing data\n",
    "delay.isna().sum()"
   ]
  },
  {
   "cell_type": "code",
   "execution_count": 7,
   "metadata": {
    "scrolled": true
   },
   "outputs": [
    {
     "name": "stdout",
     "output_type": "stream",
     "text": [
      "\"MONTH\" has 12 unique values, from 1 to 12\n",
      "\"DAY_OF_WEEK\" has 7 unique values, from 1 to 7\n",
      "\"DEP_DEL15\" has 2 unique values, from 0 to 1\n",
      "\"DEP_TIME_BLK\" has 19 unique values, from 0001-0559 to 2300-2359\n",
      "\"DISTANCE_GROUP\" has 11 unique values, from 1 to 11\n",
      "\"SEGMENT_NUMBER\" has 15 unique values, from 1 to 15\n",
      "\"CONCURRENT_FLIGHTS\" has 107 unique values, from 1 to 109\n",
      "\"NUMBER_OF_SEATS\" has 82 unique values, from 44 to 337\n",
      "\"CARRIER_NAME\" has 17 unique values, from Alaska Airlines Inc. to United Air Lines Inc.\n",
      "\"AIRPORT_FLIGHTS_MONTH\" has 969 unique values, from 1100 to 35256\n",
      "\"AIRLINE_FLIGHTS_MONTH\" has 204 unique values, from 5582 to 117728\n",
      "\"AIRLINE_AIRPORT_FLIGHTS_MONTH\" has 2119 unique values, from 1 to 21837\n",
      "\"AVG_MONTHLY_PASS_AIRPORT\" has 96 unique values, from 70476 to 4365661\n",
      "\"AVG_MONTHLY_PASS_AIRLINE\" has 17 unique values, from 473794 to 13382999\n",
      "\"FLT_ATTENDANTS_PER_PASS\" has 14 unique values, from 0.0 to 0.000348407665605\n",
      "\"GROUND_SERV_PER_PASS\" has 17 unique values, from 7.134694872433899e-06 to 0.0002289854734932\n",
      "\"PLANE_AGE\" has 33 unique values, from 0 to 32\n",
      "\"DEPARTING_AIRPORT\" has 96 unique values, from Adams Field to William P Hobby\n",
      "\"LATITUDE\" has 96 unique values, from 18.44 to 61.169\n",
      "\"LONGITUDE\" has 96 unique values, from -159.346 to -66.002\n",
      "\"PREVIOUS_AIRPORT\" has 356 unique values, from Aberdeen Regional to Yuma MCAS/Yuma International\n",
      "\"PRCP\" has 305 unique values, from 0.0 to 11.63\n",
      "\"SNOW\" has 75 unique values, from 0.0 to 17.2\n",
      "\"SNWD\" has 28 unique values, from 0.0 to 25.2\n",
      "\"TMAX\" has 124 unique values, from -10.0 to 115.0\n",
      "\"AWND\" has 130 unique values, from 0.0 to 33.78\n"
     ]
    }
   ],
   "source": [
    "# Number of unique values, and range\n",
    "for col in delay.columns:\n",
    "    print(f'\"{col}\" has {delay[col].nunique()} unique values, from {delay[col].min()} to {delay[col].max()}')"
   ]
  },
  {
   "cell_type": "code",
   "execution_count": 8,
   "metadata": {},
   "outputs": [
    {
     "data": {
      "text/plain": [
       "0    5261694\n",
       "1    1227368\n",
       "Name: DEP_DEL15, dtype: int64"
      ]
     },
     "execution_count": 8,
     "metadata": {},
     "output_type": "execute_result"
    }
   ],
   "source": [
    "# Number of flights not delayed (0), and delayed (1)\n",
    "delay['DEP_DEL15'].value_counts()"
   ]
  },
  {
   "cell_type": "code",
   "execution_count": 9,
   "metadata": {},
   "outputs": [
    {
     "data": {
      "text/plain": [
       "96"
      ]
     },
     "execution_count": 9,
     "metadata": {},
     "output_type": "execute_result"
    }
   ],
   "source": [
    "# Number of airports\n",
    "delay['DEPARTING_AIRPORT'].nunique()"
   ]
  },
  {
   "cell_type": "code",
   "execution_count": 10,
   "metadata": {},
   "outputs": [
    {
     "data": {
      "text/plain": [
       "DEPARTING_AIRPORT\n",
       "Adams Field                           12067\n",
       "Albany International                   5632\n",
       "Albuquerque International Sunport     23403\n",
       "Anchorage International               18828\n",
       "Atlanta Municipal                    392603\n",
       "                                      ...  \n",
       "Tucson International                  19036\n",
       "Tulsa International                   16781\n",
       "Washington Dulles International       68232\n",
       "Will Rogers World                     23653\n",
       "William P Hobby                       58524\n",
       "Name: DEP_DEL15, Length: 96, dtype: int64"
      ]
     },
     "execution_count": 10,
     "metadata": {},
     "output_type": "execute_result"
    }
   ],
   "source": [
    "# Number of flights per airport\n",
    "delay.groupby('DEPARTING_AIRPORT')['DEP_DEL15'].count()"
   ]
  },
  {
   "cell_type": "code",
   "execution_count": 11,
   "metadata": {},
   "outputs": [
    {
     "name": "stderr",
     "output_type": "stream",
     "text": [
      "/Users/luispsalazar/opt/anaconda3/envs/mlenv/lib/python3.7/site-packages/ipykernel_launcher.py:8: FutureWarning: The default value of regex will change from True to False in a future version. In addition, single character regular expressions will *not* be treated as literal strings when regex=True.\n",
      "  \n",
      "/Users/luispsalazar/opt/anaconda3/envs/mlenv/lib/python3.7/site-packages/ipykernel_launcher.py:13: FutureWarning: The default value of regex will change from True to False in a future version. In addition, single character regular expressions will *not* be treated as literal strings when regex=True.\n",
      "  del sys.path[0]\n"
     ]
    },
    {
     "data": {
      "text/html": [
       "<div>\n",
       "<style scoped>\n",
       "    .dataframe tbody tr th:only-of-type {\n",
       "        vertical-align: middle;\n",
       "    }\n",
       "\n",
       "    .dataframe tbody tr th {\n",
       "        vertical-align: top;\n",
       "    }\n",
       "\n",
       "    .dataframe thead th {\n",
       "        text-align: right;\n",
       "    }\n",
       "</style>\n",
       "<table border=\"1\" class=\"dataframe\">\n",
       "  <thead>\n",
       "    <tr style=\"text-align: right;\">\n",
       "      <th></th>\n",
       "      <th>MONTH</th>\n",
       "      <th>DAY_OF_WEEK</th>\n",
       "      <th>DEP_DEL15</th>\n",
       "      <th>DEP_TIME_BLK</th>\n",
       "      <th>DISTANCE_GROUP</th>\n",
       "      <th>SEGMENT_NUMBER</th>\n",
       "      <th>CONCURRENT_FLIGHTS</th>\n",
       "      <th>NUMBER_OF_SEATS</th>\n",
       "      <th>CARRIER_NAME</th>\n",
       "      <th>AIRPORT_FLIGHTS_MONTH</th>\n",
       "      <th>...</th>\n",
       "      <th>PLANE_AGE</th>\n",
       "      <th>DEPARTING_AIRPORT</th>\n",
       "      <th>LATITUDE</th>\n",
       "      <th>LONGITUDE</th>\n",
       "      <th>PREVIOUS_AIRPORT</th>\n",
       "      <th>PRCP</th>\n",
       "      <th>SNOW</th>\n",
       "      <th>SNWD</th>\n",
       "      <th>TMAX</th>\n",
       "      <th>AWND</th>\n",
       "    </tr>\n",
       "  </thead>\n",
       "  <tbody>\n",
       "    <tr>\n",
       "      <th>0</th>\n",
       "      <td>1</td>\n",
       "      <td>7</td>\n",
       "      <td>0</td>\n",
       "      <td>0800_0859</td>\n",
       "      <td>2</td>\n",
       "      <td>1</td>\n",
       "      <td>25</td>\n",
       "      <td>143</td>\n",
       "      <td>Southwest_Airlines_Co</td>\n",
       "      <td>13056</td>\n",
       "      <td>...</td>\n",
       "      <td>8</td>\n",
       "      <td>McCarran_International</td>\n",
       "      <td>36.08</td>\n",
       "      <td>-115.152</td>\n",
       "      <td>NONE</td>\n",
       "      <td>0.0</td>\n",
       "      <td>0.0</td>\n",
       "      <td>0.0</td>\n",
       "      <td>65.0</td>\n",
       "      <td>2.91</td>\n",
       "    </tr>\n",
       "    <tr>\n",
       "      <th>1</th>\n",
       "      <td>1</td>\n",
       "      <td>7</td>\n",
       "      <td>0</td>\n",
       "      <td>0700_0759</td>\n",
       "      <td>7</td>\n",
       "      <td>1</td>\n",
       "      <td>29</td>\n",
       "      <td>191</td>\n",
       "      <td>Delta_Air_Lines_Inc</td>\n",
       "      <td>13056</td>\n",
       "      <td>...</td>\n",
       "      <td>3</td>\n",
       "      <td>McCarran_International</td>\n",
       "      <td>36.08</td>\n",
       "      <td>-115.152</td>\n",
       "      <td>NONE</td>\n",
       "      <td>0.0</td>\n",
       "      <td>0.0</td>\n",
       "      <td>0.0</td>\n",
       "      <td>65.0</td>\n",
       "      <td>2.91</td>\n",
       "    </tr>\n",
       "    <tr>\n",
       "      <th>2</th>\n",
       "      <td>1</td>\n",
       "      <td>7</td>\n",
       "      <td>0</td>\n",
       "      <td>0600_0659</td>\n",
       "      <td>7</td>\n",
       "      <td>1</td>\n",
       "      <td>27</td>\n",
       "      <td>199</td>\n",
       "      <td>Delta_Air_Lines_Inc</td>\n",
       "      <td>13056</td>\n",
       "      <td>...</td>\n",
       "      <td>18</td>\n",
       "      <td>McCarran_International</td>\n",
       "      <td>36.08</td>\n",
       "      <td>-115.152</td>\n",
       "      <td>NONE</td>\n",
       "      <td>0.0</td>\n",
       "      <td>0.0</td>\n",
       "      <td>0.0</td>\n",
       "      <td>65.0</td>\n",
       "      <td>2.91</td>\n",
       "    </tr>\n",
       "    <tr>\n",
       "      <th>3</th>\n",
       "      <td>1</td>\n",
       "      <td>7</td>\n",
       "      <td>0</td>\n",
       "      <td>0600_0659</td>\n",
       "      <td>9</td>\n",
       "      <td>1</td>\n",
       "      <td>27</td>\n",
       "      <td>180</td>\n",
       "      <td>Delta_Air_Lines_Inc</td>\n",
       "      <td>13056</td>\n",
       "      <td>...</td>\n",
       "      <td>2</td>\n",
       "      <td>McCarran_International</td>\n",
       "      <td>36.08</td>\n",
       "      <td>-115.152</td>\n",
       "      <td>NONE</td>\n",
       "      <td>0.0</td>\n",
       "      <td>0.0</td>\n",
       "      <td>0.0</td>\n",
       "      <td>65.0</td>\n",
       "      <td>2.91</td>\n",
       "    </tr>\n",
       "    <tr>\n",
       "      <th>4</th>\n",
       "      <td>1</td>\n",
       "      <td>7</td>\n",
       "      <td>0</td>\n",
       "      <td>0001_0559</td>\n",
       "      <td>7</td>\n",
       "      <td>1</td>\n",
       "      <td>10</td>\n",
       "      <td>182</td>\n",
       "      <td>Spirit_Air_Lines</td>\n",
       "      <td>13056</td>\n",
       "      <td>...</td>\n",
       "      <td>1</td>\n",
       "      <td>McCarran_International</td>\n",
       "      <td>36.08</td>\n",
       "      <td>-115.152</td>\n",
       "      <td>NONE</td>\n",
       "      <td>0.0</td>\n",
       "      <td>0.0</td>\n",
       "      <td>0.0</td>\n",
       "      <td>65.0</td>\n",
       "      <td>2.91</td>\n",
       "    </tr>\n",
       "  </tbody>\n",
       "</table>\n",
       "<p>5 rows × 26 columns</p>\n",
       "</div>"
      ],
      "text/plain": [
       "   MONTH  DAY_OF_WEEK  DEP_DEL15 DEP_TIME_BLK  DISTANCE_GROUP  SEGMENT_NUMBER  \\\n",
       "0      1            7          0    0800_0859               2               1   \n",
       "1      1            7          0    0700_0759               7               1   \n",
       "2      1            7          0    0600_0659               7               1   \n",
       "3      1            7          0    0600_0659               9               1   \n",
       "4      1            7          0    0001_0559               7               1   \n",
       "\n",
       "   CONCURRENT_FLIGHTS  NUMBER_OF_SEATS           CARRIER_NAME  \\\n",
       "0                  25              143  Southwest_Airlines_Co   \n",
       "1                  29              191    Delta_Air_Lines_Inc   \n",
       "2                  27              199    Delta_Air_Lines_Inc   \n",
       "3                  27              180    Delta_Air_Lines_Inc   \n",
       "4                  10              182       Spirit_Air_Lines   \n",
       "\n",
       "   AIRPORT_FLIGHTS_MONTH  ...  PLANE_AGE       DEPARTING_AIRPORT  LATITUDE  \\\n",
       "0                  13056  ...          8  McCarran_International     36.08   \n",
       "1                  13056  ...          3  McCarran_International     36.08   \n",
       "2                  13056  ...         18  McCarran_International     36.08   \n",
       "3                  13056  ...          2  McCarran_International     36.08   \n",
       "4                  13056  ...          1  McCarran_International     36.08   \n",
       "\n",
       "   LONGITUDE  PREVIOUS_AIRPORT  PRCP  SNOW SNWD  TMAX  AWND  \n",
       "0   -115.152              NONE   0.0   0.0  0.0  65.0  2.91  \n",
       "1   -115.152              NONE   0.0   0.0  0.0  65.0  2.91  \n",
       "2   -115.152              NONE   0.0   0.0  0.0  65.0  2.91  \n",
       "3   -115.152              NONE   0.0   0.0  0.0  65.0  2.91  \n",
       "4   -115.152              NONE   0.0   0.0  0.0  65.0  2.91  \n",
       "\n",
       "[5 rows x 26 columns]"
      ]
     },
     "execution_count": 11,
     "metadata": {},
     "output_type": "execute_result"
    }
   ],
   "source": [
    "# Replace \" \" with \"_\"\n",
    "#delay = delay.replace(\" \", \"_\", regex = True)\n",
    "delay['PREVIOUS_AIRPORT'] = delay['PREVIOUS_AIRPORT'].str.replace(\" \", \"_\")\n",
    "delay['PREVIOUS_AIRPORT'] = delay['PREVIOUS_AIRPORT'].str.replace(\"/\", \"_\")\n",
    "delay['DEP_TIME_BLK'] = delay['DEP_TIME_BLK'].str.replace(\"-\", \"_\")\n",
    "delay['DEPARTING_AIRPORT'] = delay['DEPARTING_AIRPORT'].str.replace(\" \", \"_\")\n",
    "delay['DEPARTING_AIRPORT'] = delay['DEPARTING_AIRPORT'].str.replace(\"/\", \"_\")\n",
    "delay['DEPARTING_AIRPORT'] = delay['DEPARTING_AIRPORT'].str.replace(\".\", \"\")\n",
    "delay['DEPARTING_AIRPORT'] = delay['DEPARTING_AIRPORT'].str.replace(\"'Hare\", \"Hare\")\n",
    "delay['DEPARTING_AIRPORT'] = delay['DEPARTING_AIRPORT'].str.replace(\"-\", \"_\")\n",
    "delay['CARRIER_NAME'] = delay['CARRIER_NAME'].str.replace(\" \", \"_\")\n",
    "delay['CARRIER_NAME'] = delay['CARRIER_NAME'].str.replace(\"/\", \"_\")\n",
    "delay['CARRIER_NAME'] = delay['CARRIER_NAME'].str.replace(\".\", \"\")\n",
    "delay.head(5)"
   ]
  },
  {
   "cell_type": "code",
   "execution_count": 12,
   "metadata": {},
   "outputs": [
    {
     "data": {
      "text/plain": [
       "84"
      ]
     },
     "execution_count": 12,
     "metadata": {},
     "output_type": "execute_result"
    }
   ],
   "source": [
    "# Airport with least number of flights\n",
    "delay.groupby('DEPARTING_AIRPORT')['DEP_DEL15'].count().min()"
   ]
  },
  {
   "cell_type": "code",
   "execution_count": 13,
   "metadata": {},
   "outputs": [
    {
     "name": "stdout",
     "output_type": "stream",
     "text": [
      "DEPARTING_AIRPORT                  DEP_DEL15\n",
      "Adams_Field                        0            10135\n",
      "                                   1             1932\n",
      "Albany_International               0             4596\n",
      "                                   1             1036\n",
      "Albuquerque_International_Sunport  0            19559\n",
      "                                                ...  \n",
      "Washington_Dulles_International    1            10727\n",
      "Will_Rogers_World                  0            19669\n",
      "                                   1             3984\n",
      "William_P_Hobby                    0            44079\n",
      "                                   1            14445\n",
      "Name: MONTH, Length: 192, dtype: int64\n"
     ]
    }
   ],
   "source": [
    "# Grouped by airport: count of delay/on-time\n",
    "print(delay.groupby(['DEPARTING_AIRPORT','DEP_DEL15'])['MONTH'].agg('count'))"
   ]
  },
  {
   "cell_type": "markdown",
   "metadata": {},
   "source": [
    "### Distance group\n",
    "1 to 11\n",
    "Distance group to be flown by departing aircraft."
   ]
  },
  {
   "cell_type": "code",
   "execution_count": 14,
   "metadata": {},
   "outputs": [
    {
     "data": {
      "text/plain": [
       "<AxesSubplot:>"
      ]
     },
     "execution_count": 14,
     "metadata": {},
     "output_type": "execute_result"
    },
    {
     "data": {
      "image/png": "[encoded data removed]",
      "text/plain": [
       "<Figure size 1152x432 with 1 Axes>"
      ]
     },
     "metadata": {},
     "output_type": "display_data"
    }
   ],
   "source": [
    "sns.set_style('whitegrid')\n",
    "delay[\"DISTANCE_GROUP\"].plot(figsize = (16, 6))"
   ]
  },
  {
   "cell_type": "code",
   "execution_count": 15,
   "metadata": {},
   "outputs": [
    {
     "data": {
      "text/plain": [
       "<AxesSubplot:ylabel='Frequency'>"
      ]
     },
     "execution_count": 15,
     "metadata": {},
     "output_type": "execute_result"
    },
    {
     "data": {
      "image/png": "[encoded data removed]",
      "text/plain": [
       "<Figure size 864x288 with 1 Axes>"
      ]
     },
     "metadata": {},
     "output_type": "display_data"
    }
   ],
   "source": [
    "delay['DISTANCE_GROUP'].plot(kind='hist', figsize = (12, 4))"
   ]
  },
  {
   "cell_type": "markdown",
   "metadata": {},
   "source": [
    "### Segment number\n",
    "1 to 15\n",
    "The segment that this tail number is on for the day."
   ]
  },
  {
   "cell_type": "code",
   "execution_count": 16,
   "metadata": {},
   "outputs": [
    {
     "data": {
      "text/plain": [
       "<AxesSubplot:>"
      ]
     },
     "execution_count": 16,
     "metadata": {},
     "output_type": "execute_result"
    },
    {
     "data": {
      "image/png": "[encoded data removed]",
      "text/plain": [
       "<Figure size 1152x432 with 1 Axes>"
      ]
     },
     "metadata": {},
     "output_type": "display_data"
    }
   ],
   "source": [
    "delay[\"SEGMENT_NUMBER\"].plot(figsize = (16, 6))"
   ]
  },
  {
   "cell_type": "code",
   "execution_count": 17,
   "metadata": {},
   "outputs": [
    {
     "data": {
      "text/plain": [
       "<AxesSubplot:ylabel='Frequency'>"
      ]
     },
     "execution_count": 17,
     "metadata": {},
     "output_type": "execute_result"
    },
    {
     "data": {
      "image/png": "[encoded data removed]",
      "text/plain": [
       "<Figure size 864x288 with 1 Axes>"
      ]
     },
     "metadata": {},
     "output_type": "display_data"
    }
   ],
   "source": [
    "delay['SEGMENT_NUMBER'].plot(kind = 'hist', figsize = (12, 4))"
   ]
  },
  {
   "cell_type": "markdown",
   "metadata": {},
   "source": [
    "### Concurrent flights"
   ]
  },
  {
   "cell_type": "code",
   "execution_count": 18,
   "metadata": {},
   "outputs": [
    {
     "data": {
      "text/plain": [
       "<AxesSubplot:>"
      ]
     },
     "execution_count": 18,
     "metadata": {},
     "output_type": "execute_result"
    },
    {
     "data": {
      "image/png": "[encoded data removed]",
      "text/plain": [
       "<Figure size 1152x432 with 1 Axes>"
      ]
     },
     "metadata": {},
     "output_type": "display_data"
    }
   ],
   "source": [
    "delay[\"CONCURRENT_FLIGHTS\"].plot(figsize = (16, 6))"
   ]
  },
  {
   "cell_type": "code",
   "execution_count": 19,
   "metadata": {},
   "outputs": [
    {
     "data": {
      "text/plain": [
       "<AxesSubplot:ylabel='Frequency'>"
      ]
     },
     "execution_count": 19,
     "metadata": {},
     "output_type": "execute_result"
    },
    {
     "data": {
      "image/png": "[encoded data removed]",
      "text/plain": [
       "<Figure size 864x288 with 1 Axes>"
      ]
     },
     "metadata": {},
     "output_type": "display_data"
    }
   ],
   "source": [
    "delay['CONCURRENT_FLIGHTS'].plot(kind = 'hist', figsize = (12, 4))"
   ]
  },
  {
   "cell_type": "markdown",
   "metadata": {},
   "source": [
    "### Number of seats"
   ]
  },
  {
   "cell_type": "code",
   "execution_count": 20,
   "metadata": {},
   "outputs": [
    {
     "data": {
      "text/plain": [
       "<AxesSubplot:>"
      ]
     },
     "execution_count": 20,
     "metadata": {},
     "output_type": "execute_result"
    },
    {
     "data": {
      "image/png": "[encoded data removed]",
      "text/plain": [
       "<Figure size 1152x432 with 1 Axes>"
      ]
     },
     "metadata": {},
     "output_type": "display_data"
    }
   ],
   "source": [
    "delay[\"NUMBER_OF_SEATS\"].plot(figsize = (16, 6))"
   ]
  },
  {
   "cell_type": "code",
   "execution_count": 21,
   "metadata": {},
   "outputs": [
    {
     "data": {
      "text/plain": [
       "<AxesSubplot:ylabel='Frequency'>"
      ]
     },
     "execution_count": 21,
     "metadata": {},
     "output_type": "execute_result"
    },
    {
     "data": {
      "image/png": "[encoded data removed]",
      "text/plain": [
       "<Figure size 864x288 with 1 Axes>"
      ]
     },
     "metadata": {},
     "output_type": "display_data"
    }
   ],
   "source": [
    "delay['NUMBER_OF_SEATS'].plot(kind = 'hist', figsize = (12, 4))"
   ]
  },
  {
   "cell_type": "markdown",
   "metadata": {},
   "source": [
    "### Airport flights per month"
   ]
  },
  {
   "cell_type": "code",
   "execution_count": 22,
   "metadata": {},
   "outputs": [
    {
     "data": {
      "text/plain": [
       "<AxesSubplot:>"
      ]
     },
     "execution_count": 22,
     "metadata": {},
     "output_type": "execute_result"
    },
    {
     "data": {
      "image/png": "[encoded data removed]",
      "text/plain": [
       "<Figure size 1152x432 with 1 Axes>"
      ]
     },
     "metadata": {},
     "output_type": "display_data"
    }
   ],
   "source": [
    "delay[\"AIRPORT_FLIGHTS_MONTH\"].plot(figsize = (16, 6))"
   ]
  },
  {
   "cell_type": "code",
   "execution_count": 23,
   "metadata": {},
   "outputs": [
    {
     "data": {
      "text/plain": [
       "<AxesSubplot:ylabel='Frequency'>"
      ]
     },
     "execution_count": 23,
     "metadata": {},
     "output_type": "execute_result"
    },
    {
     "data": {
      "image/png": "[encoded data removed]",
      "text/plain": [
       "<Figure size 864x288 with 1 Axes>"
      ]
     },
     "metadata": {},
     "output_type": "display_data"
    }
   ],
   "source": [
    "delay['AIRPORT_FLIGHTS_MONTH'].plot(kind = 'hist', figsize = (12, 4))"
   ]
  },
  {
   "cell_type": "markdown",
   "metadata": {},
   "source": [
    "### Airline flights per month"
   ]
  },
  {
   "cell_type": "code",
   "execution_count": 24,
   "metadata": {},
   "outputs": [
    {
     "data": {
      "text/plain": [
       "<AxesSubplot:>"
      ]
     },
     "execution_count": 24,
     "metadata": {},
     "output_type": "execute_result"
    },
    {
     "data": {
      "image/png": "[encoded data removed]",
      "text/plain": [
       "<Figure size 1152x432 with 1 Axes>"
      ]
     },
     "metadata": {},
     "output_type": "display_data"
    }
   ],
   "source": [
    "delay[\"AIRLINE_FLIGHTS_MONTH\"].plot(figsize = (16, 6))"
   ]
  },
  {
   "cell_type": "code",
   "execution_count": 25,
   "metadata": {},
   "outputs": [
    {
     "data": {
      "text/plain": [
       "<AxesSubplot:ylabel='Frequency'>"
      ]
     },
     "execution_count": 25,
     "metadata": {},
     "output_type": "execute_result"
    },
    {
     "data": {
      "image/png": "[encoded data removed]",
      "text/plain": [
       "<Figure size 864x288 with 1 Axes>"
      ]
     },
     "metadata": {},
     "output_type": "display_data"
    }
   ],
   "source": [
    "delay['AIRLINE_FLIGHTS_MONTH'].plot(kind = 'hist', figsize = (12, 4))"
   ]
  },
  {
   "cell_type": "markdown",
   "metadata": {},
   "source": [
    "### AIRLINE_AIRPORT_FLIGHTS_MONTH"
   ]
  },
  {
   "cell_type": "code",
   "execution_count": 26,
   "metadata": {},
   "outputs": [
    {
     "data": {
      "text/plain": [
       "<AxesSubplot:>"
      ]
     },
     "execution_count": 26,
     "metadata": {},
     "output_type": "execute_result"
    },
    {
     "data": {
      "image/png": "[encoded data removed]",
      "text/plain": [
       "<Figure size 1152x432 with 1 Axes>"
      ]
     },
     "metadata": {},
     "output_type": "display_data"
    }
   ],
   "source": [
    "delay[\"AIRLINE_AIRPORT_FLIGHTS_MONTH\"].plot(figsize = (16, 6))"
   ]
  },
  {
   "cell_type": "code",
   "execution_count": 27,
   "metadata": {},
   "outputs": [
    {
     "data": {
      "text/plain": [
       "<AxesSubplot:ylabel='Frequency'>"
      ]
     },
     "execution_count": 27,
     "metadata": {},
     "output_type": "execute_result"
    },
    {
     "data": {
      "image/png": "[encoded data removed]",
      "text/plain": [
       "<Figure size 864x288 with 1 Axes>"
      ]
     },
     "metadata": {},
     "output_type": "display_data"
    }
   ],
   "source": [
    "delay['AIRLINE_AIRPORT_FLIGHTS_MONTH'].plot(kind = 'hist', figsize = (12, 4))"
   ]
  },
  {
   "cell_type": "markdown",
   "metadata": {},
   "source": [
    "### AVG_MONTHLY_PASS_AIRPORT"
   ]
  },
  {
   "cell_type": "code",
   "execution_count": 28,
   "metadata": {},
   "outputs": [
    {
     "data": {
      "text/plain": [
       "<AxesSubplot:>"
      ]
     },
     "execution_count": 28,
     "metadata": {},
     "output_type": "execute_result"
    },
    {
     "data": {
      "image/png": "[encoded data removed]",
      "text/plain": [
       "<Figure size 1152x432 with 1 Axes>"
      ]
     },
     "metadata": {},
     "output_type": "display_data"
    }
   ],
   "source": [
    "delay[\"AVG_MONTHLY_PASS_AIRPORT\"].plot(figsize = (16, 6))"
   ]
  },
  {
   "cell_type": "code",
   "execution_count": 29,
   "metadata": {},
   "outputs": [
    {
     "data": {
      "text/plain": [
       "<AxesSubplot:ylabel='Frequency'>"
      ]
     },
     "execution_count": 29,
     "metadata": {},
     "output_type": "execute_result"
    },
    {
     "data": {
      "image/png": "[encoded data removed]",
      "text/plain": [
       "<Figure size 864x288 with 1 Axes>"
      ]
     },
     "metadata": {},
     "output_type": "display_data"
    }
   ],
   "source": [
    "delay['AVG_MONTHLY_PASS_AIRPORT'].plot(kind = 'hist', figsize = (12, 4))"
   ]
  },
  {
   "cell_type": "markdown",
   "metadata": {},
   "source": [
    "### AVG_MONTHLY_PASS_AIRLINE"
   ]
  },
  {
   "cell_type": "code",
   "execution_count": 30,
   "metadata": {},
   "outputs": [
    {
     "data": {
      "text/plain": [
       "<AxesSubplot:>"
      ]
     },
     "execution_count": 30,
     "metadata": {},
     "output_type": "execute_result"
    },
    {
     "data": {
      "image/png": "[encoded data removed]",
      "text/plain": [
       "<Figure size 1152x432 with 1 Axes>"
      ]
     },
     "metadata": {},
     "output_type": "display_data"
    }
   ],
   "source": [
    "delay[\"AVG_MONTHLY_PASS_AIRLINE\"].plot(figsize = (16, 6))"
   ]
  },
  {
   "cell_type": "code",
   "execution_count": 31,
   "metadata": {},
   "outputs": [
    {
     "data": {
      "text/plain": [
       "<AxesSubplot:ylabel='Frequency'>"
      ]
     },
     "execution_count": 31,
     "metadata": {},
     "output_type": "execute_result"
    },
    {
     "data": {
      "image/png": "[encoded data removed]",
      "text/plain": [
       "<Figure size 864x288 with 1 Axes>"
      ]
     },
     "metadata": {},
     "output_type": "display_data"
    }
   ],
   "source": [
    "delay['AVG_MONTHLY_PASS_AIRLINE'].plot(kind = 'hist', figsize = (12, 4))"
   ]
  },
  {
   "cell_type": "markdown",
   "metadata": {},
   "source": [
    "### FLT_ATTENDANTS_PER_PASS"
   ]
  },
  {
   "cell_type": "code",
   "execution_count": 32,
   "metadata": {},
   "outputs": [
    {
     "data": {
      "text/plain": [
       "<AxesSubplot:>"
      ]
     },
     "execution_count": 32,
     "metadata": {},
     "output_type": "execute_result"
    },
    {
     "data": {
      "image/png": "[encoded data removed]",
      "text/plain": [
       "<Figure size 1152x432 with 1 Axes>"
      ]
     },
     "metadata": {},
     "output_type": "display_data"
    }
   ],
   "source": [
    "delay[\"FLT_ATTENDANTS_PER_PASS\"].plot(figsize = (16, 6))"
   ]
  },
  {
   "cell_type": "code",
   "execution_count": 33,
   "metadata": {},
   "outputs": [
    {
     "data": {
      "text/plain": [
       "<AxesSubplot:ylabel='Frequency'>"
      ]
     },
     "execution_count": 33,
     "metadata": {},
     "output_type": "execute_result"
    },
    {
     "data": {
      "image/png": "[encoded data removed]",
      "text/plain": [
       "<Figure size 864x288 with 1 Axes>"
      ]
     },
     "metadata": {},
     "output_type": "display_data"
    }
   ],
   "source": [
    "delay['FLT_ATTENDANTS_PER_PASS'].plot(kind = 'hist', figsize = (12, 4))"
   ]
  },
  {
   "cell_type": "markdown",
   "metadata": {},
   "source": [
    "### GROUND_SERV_PER_PASS"
   ]
  },
  {
   "cell_type": "code",
   "execution_count": 34,
   "metadata": {},
   "outputs": [
    {
     "data": {
      "text/plain": [
       "<AxesSubplot:>"
      ]
     },
     "execution_count": 34,
     "metadata": {},
     "output_type": "execute_result"
    },
    {
     "data": {
      "image/png": "[encoded data removed]",
      "text/plain": [
       "<Figure size 1152x432 with 1 Axes>"
      ]
     },
     "metadata": {},
     "output_type": "display_data"
    }
   ],
   "source": [
    "delay[\"GROUND_SERV_PER_PASS\"].plot(figsize = (16, 6))"
   ]
  },
  {
   "cell_type": "code",
   "execution_count": 35,
   "metadata": {},
   "outputs": [
    {
     "data": {
      "text/plain": [
       "<AxesSubplot:ylabel='Frequency'>"
      ]
     },
     "execution_count": 35,
     "metadata": {},
     "output_type": "execute_result"
    },
    {
     "data": {
      "image/png": "[encoded data removed]",
      "text/plain": [
       "<Figure size 864x288 with 1 Axes>"
      ]
     },
     "metadata": {},
     "output_type": "display_data"
    }
   ],
   "source": [
    "delay['GROUND_SERV_PER_PASS'].plot(kind = 'hist', figsize = (12, 4))"
   ]
  },
  {
   "cell_type": "markdown",
   "metadata": {},
   "source": [
    "### Plane age"
   ]
  },
  {
   "cell_type": "code",
   "execution_count": 36,
   "metadata": {},
   "outputs": [
    {
     "data": {
      "text/plain": [
       "<AxesSubplot:>"
      ]
     },
     "execution_count": 36,
     "metadata": {},
     "output_type": "execute_result"
    },
    {
     "data": {
      "image/png": "[encoded data removed]",
      "text/plain": [
       "<Figure size 1152x432 with 1 Axes>"
      ]
     },
     "metadata": {},
     "output_type": "display_data"
    }
   ],
   "source": [
    "delay[\"PLANE_AGE\"].plot(figsize = (16, 6))"
   ]
  },
  {
   "cell_type": "code",
   "execution_count": 37,
   "metadata": {},
   "outputs": [
    {
     "data": {
      "text/plain": [
       "<AxesSubplot:ylabel='Frequency'>"
      ]
     },
     "execution_count": 37,
     "metadata": {},
     "output_type": "execute_result"
    },
    {
     "data": {
      "image/png": "[encoded data removed]",
      "text/plain": [
       "<Figure size 864x288 with 1 Axes>"
      ]
     },
     "metadata": {},
     "output_type": "display_data"
    }
   ],
   "source": [
    "delay['PLANE_AGE'].plot(kind = 'hist', figsize = (12, 4))"
   ]
  },
  {
   "cell_type": "markdown",
   "metadata": {},
   "source": [
    "### Departing airport"
   ]
  },
  {
   "cell_type": "code",
   "execution_count": 38,
   "metadata": {},
   "outputs": [
    {
     "data": {
      "text/plain": [
       "<AxesSubplot:xlabel='DEPARTING_AIRPORT'>"
      ]
     },
     "execution_count": 38,
     "metadata": {},
     "output_type": "execute_result"
    },
    {
     "data": {
      "image/png": "[encoded data removed]",
      "text/plain": [
       "<Figure size 1152x432 with 1 Axes>"
      ]
     },
     "metadata": {},
     "output_type": "display_data"
    }
   ],
   "source": [
    "delay.groupby('DEPARTING_AIRPORT')['DEP_DEL15'].count().plot(figsize = (16, 6))"
   ]
  },
  {
   "cell_type": "markdown",
   "metadata": {},
   "source": [
    "### Previous airport"
   ]
  },
  {
   "cell_type": "code",
   "execution_count": 39,
   "metadata": {},
   "outputs": [
    {
     "data": {
      "text/plain": [
       "<AxesSubplot:xlabel='PREVIOUS_AIRPORT'>"
      ]
     },
     "execution_count": 39,
     "metadata": {},
     "output_type": "execute_result"
    },
    {
     "data": {
      "image/png": "[encoded data removed]",
      "text/plain": [
       "<Figure size 1152x432 with 1 Axes>"
      ]
     },
     "metadata": {},
     "output_type": "display_data"
    }
   ],
   "source": [
    "delay.groupby('PREVIOUS_AIRPORT')['DEP_DEL15'].count().plot(figsize = (16, 6))"
   ]
  },
  {
   "cell_type": "markdown",
   "metadata": {},
   "source": [
    "### Precipitation"
   ]
  },
  {
   "cell_type": "code",
   "execution_count": 40,
   "metadata": {},
   "outputs": [
    {
     "data": {
      "text/plain": [
       "<AxesSubplot:>"
      ]
     },
     "execution_count": 40,
     "metadata": {},
     "output_type": "execute_result"
    },
    {
     "data": {
      "image/png": "[encoded data removed]",
      "text/plain": [
       "<Figure size 1152x432 with 1 Axes>"
      ]
     },
     "metadata": {},
     "output_type": "display_data"
    }
   ],
   "source": [
    "delay[\"PRCP\"].plot(figsize = (16, 6))"
   ]
  },
  {
   "cell_type": "code",
   "execution_count": 41,
   "metadata": {},
   "outputs": [
    {
     "data": {
      "text/plain": [
       "<AxesSubplot:ylabel='Frequency'>"
      ]
     },
     "execution_count": 41,
     "metadata": {},
     "output_type": "execute_result"
    },
    {
     "data": {
      "image/png": "[encoded data removed]",
      "text/plain": [
       "<Figure size 864x288 with 1 Axes>"
      ]
     },
     "metadata": {},
     "output_type": "display_data"
    }
   ],
   "source": [
    "delay['PRCP'].plot(kind = 'hist', figsize = (12, 4))"
   ]
  },
  {
   "cell_type": "markdown",
   "metadata": {},
   "source": [
    "### Snow (SNOW)\n",
    "0 to 17.2\n",
    "Inches of snowfall for day."
   ]
  },
  {
   "cell_type": "code",
   "execution_count": 42,
   "metadata": {},
   "outputs": [
    {
     "data": {
      "text/plain": [
       "<AxesSubplot:>"
      ]
     },
     "execution_count": 42,
     "metadata": {},
     "output_type": "execute_result"
    },
    {
     "data": {
      "image/png": "[encoded data removed]",
      "text/plain": [
       "<Figure size 1152x432 with 1 Axes>"
      ]
     },
     "metadata": {},
     "output_type": "display_data"
    }
   ],
   "source": [
    "delay[\"SNOW\"].plot(figsize = (16, 6))"
   ]
  },
  {
   "cell_type": "code",
   "execution_count": 43,
   "metadata": {},
   "outputs": [
    {
     "data": {
      "text/plain": [
       "<AxesSubplot:ylabel='Frequency'>"
      ]
     },
     "execution_count": 43,
     "metadata": {},
     "output_type": "execute_result"
    },
    {
     "data": {
      "image/png": "[encoded data removed]",
      "text/plain": [
       "<Figure size 864x288 with 1 Axes>"
      ]
     },
     "metadata": {},
     "output_type": "display_data"
    }
   ],
   "source": [
    "delay['SNOW'].plot(kind = 'hist', figsize = (12, 4))"
   ]
  },
  {
   "cell_type": "markdown",
   "metadata": {},
   "source": [
    "### SNOWD\n",
    "0 to 25.2\n",
    "Inches of snow on ground for day."
   ]
  },
  {
   "cell_type": "code",
   "execution_count": 44,
   "metadata": {},
   "outputs": [
    {
     "data": {
      "text/plain": [
       "<AxesSubplot:>"
      ]
     },
     "execution_count": 44,
     "metadata": {},
     "output_type": "execute_result"
    },
    {
     "data": {
      "image/png": "[encoded data removed]",
      "text/plain": [
       "<Figure size 1152x432 with 1 Axes>"
      ]
     },
     "metadata": {},
     "output_type": "display_data"
    }
   ],
   "source": [
    "delay[\"SNWD\"].plot(figsize = (16, 6))"
   ]
  },
  {
   "cell_type": "code",
   "execution_count": 45,
   "metadata": {},
   "outputs": [
    {
     "data": {
      "text/plain": [
       "<AxesSubplot:ylabel='Frequency'>"
      ]
     },
     "execution_count": 45,
     "metadata": {},
     "output_type": "execute_result"
    },
    {
     "data": {
      "image/png": "[encoded data removed]",
      "text/plain": [
       "<Figure size 864x288 with 1 Axes>"
      ]
     },
     "metadata": {},
     "output_type": "display_data"
    }
   ],
   "source": [
    "delay['SNWD'].plot(kind='hist', figsize = (12, 4))"
   ]
  },
  {
   "cell_type": "markdown",
   "metadata": {},
   "source": [
    "### Temperature"
   ]
  },
  {
   "cell_type": "code",
   "execution_count": 46,
   "metadata": {},
   "outputs": [
    {
     "data": {
      "text/plain": [
       "<AxesSubplot:>"
      ]
     },
     "execution_count": 46,
     "metadata": {},
     "output_type": "execute_result"
    },
    {
     "data": {
      "image/png": "[encoded data removed]",
      "text/plain": [
       "<Figure size 1152x432 with 1 Axes>"
      ]
     },
     "metadata": {},
     "output_type": "display_data"
    }
   ],
   "source": [
    "delay[\"TMAX\"].plot(figsize = (16, 6))"
   ]
  },
  {
   "cell_type": "code",
   "execution_count": 47,
   "metadata": {},
   "outputs": [
    {
     "data": {
      "text/plain": [
       "<AxesSubplot:ylabel='Frequency'>"
      ]
     },
     "execution_count": 47,
     "metadata": {},
     "output_type": "execute_result"
    },
    {
     "data": {
      "image/png": "[encoded data removed]",
      "text/plain": [
       "<Figure size 864x288 with 1 Axes>"
      ]
     },
     "metadata": {},
     "output_type": "display_data"
    }
   ],
   "source": [
    "delay['TMAX'].plot(kind = 'hist', figsize = (12, 4))"
   ]
  },
  {
   "cell_type": "markdown",
   "metadata": {},
   "source": [
    "### Air wind speed (AWND)\n",
    "0 to 33.78\n",
    "Max wind speed for day."
   ]
  },
  {
   "cell_type": "code",
   "execution_count": 48,
   "metadata": {},
   "outputs": [
    {
     "data": {
      "text/plain": [
       "<AxesSubplot:>"
      ]
     },
     "execution_count": 48,
     "metadata": {},
     "output_type": "execute_result"
    },
    {
     "data": {
      "image/png": "[encoded data removed]",
      "text/plain": [
       "<Figure size 1152x432 with 1 Axes>"
      ]
     },
     "metadata": {},
     "output_type": "display_data"
    }
   ],
   "source": [
    "delay[\"AWND\"].plot(figsize = (16, 6))"
   ]
  },
  {
   "cell_type": "code",
   "execution_count": 49,
   "metadata": {},
   "outputs": [
    {
     "data": {
      "text/plain": [
       "<AxesSubplot:ylabel='Frequency'>"
      ]
     },
     "execution_count": 49,
     "metadata": {},
     "output_type": "execute_result"
    },
    {
     "data": {
      "image/png": "[encoded data removed]",
      "text/plain": [
       "<Figure size 864x288 with 1 Axes>"
      ]
     },
     "metadata": {},
     "output_type": "display_data"
    }
   ],
   "source": [
    "delay['AWND'].plot(kind = 'hist', figsize = (12, 4))"
   ]
  },
  {
   "cell_type": "markdown",
   "metadata": {},
   "source": [
    "# 2. Data Cleanup"
   ]
  },
  {
   "cell_type": "markdown",
   "metadata": {},
   "source": [
    "### DEP_TIME_BLK categorical variable"
   ]
  },
  {
   "cell_type": "code",
   "execution_count": 50,
   "metadata": {},
   "outputs": [
    {
     "data": {
      "text/plain": [
       "0800_0859    452391\n",
       "0700_0759    436032\n",
       "0600_0659    430404\n",
       "1700_1759    408878\n",
       "1200_1259    398009\n",
       "1000_1059    397751\n",
       "0900_0959    396112\n",
       "1100_1159    394884\n",
       "1500_1559    388240\n",
       "1400_1459    375981\n",
       "1800_1859    374866\n",
       "1600_1659    368464\n",
       "1900_1959    358165\n",
       "1300_1359    353000\n",
       "2000_2059    342123\n",
       "2100_2159    221087\n",
       "2200_2259    193229\n",
       "0001_0559    148580\n",
       "2300_2359     50866\n",
       "Name: DEP_TIME_BLK, dtype: int64"
      ]
     },
     "execution_count": 50,
     "metadata": {},
     "output_type": "execute_result"
    }
   ],
   "source": [
    "# Visualize the value counts\n",
    "DEP_TIME_BLK_counts = delay.DEP_TIME_BLK.value_counts()\n",
    "DEP_TIME_BLK_counts"
   ]
  },
  {
   "cell_type": "code",
   "execution_count": 51,
   "metadata": {},
   "outputs": [
    {
     "data": {
      "text/plain": [
       "<AxesSubplot:ylabel='Density'>"
      ]
     },
     "execution_count": 51,
     "metadata": {},
     "output_type": "execute_result"
    },
    {
     "data": {
      "image/png": "[encoded data removed]",
      "text/plain": [
       "<Figure size 432x288 with 1 Axes>"
      ]
     },
     "metadata": {},
     "output_type": "display_data"
    }
   ],
   "source": [
    "DEP_TIME_BLK_counts.plot.density()"
   ]
  },
  {
   "cell_type": "code",
   "execution_count": 52,
   "metadata": {},
   "outputs": [],
   "source": [
    "# Create the OneHotEncoder instance\n",
    "enc = OneHotEncoder(sparse = False)"
   ]
  },
  {
   "cell_type": "code",
   "execution_count": 53,
   "metadata": {},
   "outputs": [],
   "source": [
    "# Fit the encoder and produce encoded DataFrame\n",
    "encode_df = pd.DataFrame(enc.fit_transform(delay.DEP_TIME_BLK.values.reshape(-1,1)))"
   ]
  },
  {
   "cell_type": "code",
   "execution_count": 54,
   "metadata": {},
   "outputs": [
    {
     "name": "stderr",
     "output_type": "stream",
     "text": [
      "/Users/luispsalazar/opt/anaconda3/envs/mlenv/lib/python3.7/site-packages/sklearn/utils/deprecation.py:87: FutureWarning: Function get_feature_names is deprecated; get_feature_names is deprecated in 1.0 and will be removed in 1.2. Please use get_feature_names_out instead.\n",
      "  warnings.warn(msg, category=FutureWarning)\n"
     ]
    },
    {
     "data": {
      "text/html": [
       "<div>\n",
       "<style scoped>\n",
       "    .dataframe tbody tr th:only-of-type {\n",
       "        vertical-align: middle;\n",
       "    }\n",
       "\n",
       "    .dataframe tbody tr th {\n",
       "        vertical-align: top;\n",
       "    }\n",
       "\n",
       "    .dataframe thead th {\n",
       "        text-align: right;\n",
       "    }\n",
       "</style>\n",
       "<table border=\"1\" class=\"dataframe\">\n",
       "  <thead>\n",
       "    <tr style=\"text-align: right;\">\n",
       "      <th></th>\n",
       "      <th>DEP_TIME_BLK_0001_0559</th>\n",
       "      <th>DEP_TIME_BLK_0600_0659</th>\n",
       "      <th>DEP_TIME_BLK_0700_0759</th>\n",
       "      <th>DEP_TIME_BLK_0800_0859</th>\n",
       "      <th>DEP_TIME_BLK_0900_0959</th>\n",
       "      <th>DEP_TIME_BLK_1000_1059</th>\n",
       "      <th>DEP_TIME_BLK_1100_1159</th>\n",
       "      <th>DEP_TIME_BLK_1200_1259</th>\n",
       "      <th>DEP_TIME_BLK_1300_1359</th>\n",
       "      <th>DEP_TIME_BLK_1400_1459</th>\n",
       "      <th>DEP_TIME_BLK_1500_1559</th>\n",
       "      <th>DEP_TIME_BLK_1600_1659</th>\n",
       "      <th>DEP_TIME_BLK_1700_1759</th>\n",
       "      <th>DEP_TIME_BLK_1800_1859</th>\n",
       "      <th>DEP_TIME_BLK_1900_1959</th>\n",
       "      <th>DEP_TIME_BLK_2000_2059</th>\n",
       "      <th>DEP_TIME_BLK_2100_2159</th>\n",
       "      <th>DEP_TIME_BLK_2200_2259</th>\n",
       "      <th>DEP_TIME_BLK_2300_2359</th>\n",
       "    </tr>\n",
       "  </thead>\n",
       "  <tbody>\n",
       "    <tr>\n",
       "      <th>0</th>\n",
       "      <td>0.0</td>\n",
       "      <td>0.0</td>\n",
       "      <td>0.0</td>\n",
       "      <td>1.0</td>\n",
       "      <td>0.0</td>\n",
       "      <td>0.0</td>\n",
       "      <td>0.0</td>\n",
       "      <td>0.0</td>\n",
       "      <td>0.0</td>\n",
       "      <td>0.0</td>\n",
       "      <td>0.0</td>\n",
       "      <td>0.0</td>\n",
       "      <td>0.0</td>\n",
       "      <td>0.0</td>\n",
       "      <td>0.0</td>\n",
       "      <td>0.0</td>\n",
       "      <td>0.0</td>\n",
       "      <td>0.0</td>\n",
       "      <td>0.0</td>\n",
       "    </tr>\n",
       "    <tr>\n",
       "      <th>1</th>\n",
       "      <td>0.0</td>\n",
       "      <td>0.0</td>\n",
       "      <td>1.0</td>\n",
       "      <td>0.0</td>\n",
       "      <td>0.0</td>\n",
       "      <td>0.0</td>\n",
       "      <td>0.0</td>\n",
       "      <td>0.0</td>\n",
       "      <td>0.0</td>\n",
       "      <td>0.0</td>\n",
       "      <td>0.0</td>\n",
       "      <td>0.0</td>\n",
       "      <td>0.0</td>\n",
       "      <td>0.0</td>\n",
       "      <td>0.0</td>\n",
       "      <td>0.0</td>\n",
       "      <td>0.0</td>\n",
       "      <td>0.0</td>\n",
       "      <td>0.0</td>\n",
       "    </tr>\n",
       "    <tr>\n",
       "      <th>2</th>\n",
       "      <td>0.0</td>\n",
       "      <td>1.0</td>\n",
       "      <td>0.0</td>\n",
       "      <td>0.0</td>\n",
       "      <td>0.0</td>\n",
       "      <td>0.0</td>\n",
       "      <td>0.0</td>\n",
       "      <td>0.0</td>\n",
       "      <td>0.0</td>\n",
       "      <td>0.0</td>\n",
       "      <td>0.0</td>\n",
       "      <td>0.0</td>\n",
       "      <td>0.0</td>\n",
       "      <td>0.0</td>\n",
       "      <td>0.0</td>\n",
       "      <td>0.0</td>\n",
       "      <td>0.0</td>\n",
       "      <td>0.0</td>\n",
       "      <td>0.0</td>\n",
       "    </tr>\n",
       "    <tr>\n",
       "      <th>3</th>\n",
       "      <td>0.0</td>\n",
       "      <td>1.0</td>\n",
       "      <td>0.0</td>\n",
       "      <td>0.0</td>\n",
       "      <td>0.0</td>\n",
       "      <td>0.0</td>\n",
       "      <td>0.0</td>\n",
       "      <td>0.0</td>\n",
       "      <td>0.0</td>\n",
       "      <td>0.0</td>\n",
       "      <td>0.0</td>\n",
       "      <td>0.0</td>\n",
       "      <td>0.0</td>\n",
       "      <td>0.0</td>\n",
       "      <td>0.0</td>\n",
       "      <td>0.0</td>\n",
       "      <td>0.0</td>\n",
       "      <td>0.0</td>\n",
       "      <td>0.0</td>\n",
       "    </tr>\n",
       "    <tr>\n",
       "      <th>4</th>\n",
       "      <td>1.0</td>\n",
       "      <td>0.0</td>\n",
       "      <td>0.0</td>\n",
       "      <td>0.0</td>\n",
       "      <td>0.0</td>\n",
       "      <td>0.0</td>\n",
       "      <td>0.0</td>\n",
       "      <td>0.0</td>\n",
       "      <td>0.0</td>\n",
       "      <td>0.0</td>\n",
       "      <td>0.0</td>\n",
       "      <td>0.0</td>\n",
       "      <td>0.0</td>\n",
       "      <td>0.0</td>\n",
       "      <td>0.0</td>\n",
       "      <td>0.0</td>\n",
       "      <td>0.0</td>\n",
       "      <td>0.0</td>\n",
       "      <td>0.0</td>\n",
       "    </tr>\n",
       "  </tbody>\n",
       "</table>\n",
       "</div>"
      ],
      "text/plain": [
       "   DEP_TIME_BLK_0001_0559  DEP_TIME_BLK_0600_0659  DEP_TIME_BLK_0700_0759  \\\n",
       "0                     0.0                     0.0                     0.0   \n",
       "1                     0.0                     0.0                     1.0   \n",
       "2                     0.0                     1.0                     0.0   \n",
       "3                     0.0                     1.0                     0.0   \n",
       "4                     1.0                     0.0                     0.0   \n",
       "\n",
       "   DEP_TIME_BLK_0800_0859  DEP_TIME_BLK_0900_0959  DEP_TIME_BLK_1000_1059  \\\n",
       "0                     1.0                     0.0                     0.0   \n",
       "1                     0.0                     0.0                     0.0   \n",
       "2                     0.0                     0.0                     0.0   \n",
       "3                     0.0                     0.0                     0.0   \n",
       "4                     0.0                     0.0                     0.0   \n",
       "\n",
       "   DEP_TIME_BLK_1100_1159  DEP_TIME_BLK_1200_1259  DEP_TIME_BLK_1300_1359  \\\n",
       "0                     0.0                     0.0                     0.0   \n",
       "1                     0.0                     0.0                     0.0   \n",
       "2                     0.0                     0.0                     0.0   \n",
       "3                     0.0                     0.0                     0.0   \n",
       "4                     0.0                     0.0                     0.0   \n",
       "\n",
       "   DEP_TIME_BLK_1400_1459  DEP_TIME_BLK_1500_1559  DEP_TIME_BLK_1600_1659  \\\n",
       "0                     0.0                     0.0                     0.0   \n",
       "1                     0.0                     0.0                     0.0   \n",
       "2                     0.0                     0.0                     0.0   \n",
       "3                     0.0                     0.0                     0.0   \n",
       "4                     0.0                     0.0                     0.0   \n",
       "\n",
       "   DEP_TIME_BLK_1700_1759  DEP_TIME_BLK_1800_1859  DEP_TIME_BLK_1900_1959  \\\n",
       "0                     0.0                     0.0                     0.0   \n",
       "1                     0.0                     0.0                     0.0   \n",
       "2                     0.0                     0.0                     0.0   \n",
       "3                     0.0                     0.0                     0.0   \n",
       "4                     0.0                     0.0                     0.0   \n",
       "\n",
       "   DEP_TIME_BLK_2000_2059  DEP_TIME_BLK_2100_2159  DEP_TIME_BLK_2200_2259  \\\n",
       "0                     0.0                     0.0                     0.0   \n",
       "1                     0.0                     0.0                     0.0   \n",
       "2                     0.0                     0.0                     0.0   \n",
       "3                     0.0                     0.0                     0.0   \n",
       "4                     0.0                     0.0                     0.0   \n",
       "\n",
       "   DEP_TIME_BLK_2300_2359  \n",
       "0                     0.0  \n",
       "1                     0.0  \n",
       "2                     0.0  \n",
       "3                     0.0  \n",
       "4                     0.0  "
      ]
     },
     "execution_count": 54,
     "metadata": {},
     "output_type": "execute_result"
    }
   ],
   "source": [
    "# Rename encoded columns\n",
    "encode_df.columns = enc.get_feature_names(['DEP_TIME_BLK'])\n",
    "encode_df.head()"
   ]
  },
  {
   "cell_type": "code",
   "execution_count": 55,
   "metadata": {},
   "outputs": [],
   "source": [
    "# Merge the two DataFrames together and drop the encoded column\n",
    "delay_block = delay.merge(encode_df,left_index = True, right_index = True).drop([\"DEP_TIME_BLK\"], axis = 1)"
   ]
  },
  {
   "cell_type": "code",
   "execution_count": 56,
   "metadata": {},
   "outputs": [
    {
     "data": {
      "text/html": [
       "<div>\n",
       "<style scoped>\n",
       "    .dataframe tbody tr th:only-of-type {\n",
       "        vertical-align: middle;\n",
       "    }\n",
       "\n",
       "    .dataframe tbody tr th {\n",
       "        vertical-align: top;\n",
       "    }\n",
       "\n",
       "    .dataframe thead th {\n",
       "        text-align: right;\n",
       "    }\n",
       "</style>\n",
       "<table border=\"1\" class=\"dataframe\">\n",
       "  <thead>\n",
       "    <tr style=\"text-align: right;\">\n",
       "      <th></th>\n",
       "      <th>MONTH</th>\n",
       "      <th>DAY_OF_WEEK</th>\n",
       "      <th>DEP_DEL15</th>\n",
       "      <th>DISTANCE_GROUP</th>\n",
       "      <th>SEGMENT_NUMBER</th>\n",
       "      <th>CONCURRENT_FLIGHTS</th>\n",
       "      <th>NUMBER_OF_SEATS</th>\n",
       "      <th>CARRIER_NAME</th>\n",
       "      <th>AIRPORT_FLIGHTS_MONTH</th>\n",
       "      <th>AIRLINE_FLIGHTS_MONTH</th>\n",
       "      <th>...</th>\n",
       "      <th>DEP_TIME_BLK_1400_1459</th>\n",
       "      <th>DEP_TIME_BLK_1500_1559</th>\n",
       "      <th>DEP_TIME_BLK_1600_1659</th>\n",
       "      <th>DEP_TIME_BLK_1700_1759</th>\n",
       "      <th>DEP_TIME_BLK_1800_1859</th>\n",
       "      <th>DEP_TIME_BLK_1900_1959</th>\n",
       "      <th>DEP_TIME_BLK_2000_2059</th>\n",
       "      <th>DEP_TIME_BLK_2100_2159</th>\n",
       "      <th>DEP_TIME_BLK_2200_2259</th>\n",
       "      <th>DEP_TIME_BLK_2300_2359</th>\n",
       "    </tr>\n",
       "  </thead>\n",
       "  <tbody>\n",
       "    <tr>\n",
       "      <th>878260</th>\n",
       "      <td>2</td>\n",
       "      <td>3</td>\n",
       "      <td>0</td>\n",
       "      <td>2</td>\n",
       "      <td>3</td>\n",
       "      <td>7</td>\n",
       "      <td>50</td>\n",
       "      <td>American_Eagle_Airlines_Inc</td>\n",
       "      <td>2459</td>\n",
       "      <td>21895</td>\n",
       "      <td>...</td>\n",
       "      <td>0.0</td>\n",
       "      <td>1.0</td>\n",
       "      <td>0.0</td>\n",
       "      <td>0.0</td>\n",
       "      <td>0.0</td>\n",
       "      <td>0.0</td>\n",
       "      <td>0.0</td>\n",
       "      <td>0.0</td>\n",
       "      <td>0.0</td>\n",
       "      <td>0.0</td>\n",
       "    </tr>\n",
       "    <tr>\n",
       "      <th>831799</th>\n",
       "      <td>2</td>\n",
       "      <td>2</td>\n",
       "      <td>0</td>\n",
       "      <td>2</td>\n",
       "      <td>4</td>\n",
       "      <td>64</td>\n",
       "      <td>70</td>\n",
       "      <td>Comair_Inc</td>\n",
       "      <td>17206</td>\n",
       "      <td>20452</td>\n",
       "      <td>...</td>\n",
       "      <td>0.0</td>\n",
       "      <td>0.0</td>\n",
       "      <td>0.0</td>\n",
       "      <td>0.0</td>\n",
       "      <td>0.0</td>\n",
       "      <td>0.0</td>\n",
       "      <td>0.0</td>\n",
       "      <td>0.0</td>\n",
       "      <td>0.0</td>\n",
       "      <td>0.0</td>\n",
       "    </tr>\n",
       "    <tr>\n",
       "      <th>3525791</th>\n",
       "      <td>7</td>\n",
       "      <td>7</td>\n",
       "      <td>0</td>\n",
       "      <td>5</td>\n",
       "      <td>1</td>\n",
       "      <td>13</td>\n",
       "      <td>120</td>\n",
       "      <td>United_Air_Lines_Inc</td>\n",
       "      <td>4068</td>\n",
       "      <td>55374</td>\n",
       "      <td>...</td>\n",
       "      <td>0.0</td>\n",
       "      <td>0.0</td>\n",
       "      <td>0.0</td>\n",
       "      <td>0.0</td>\n",
       "      <td>0.0</td>\n",
       "      <td>0.0</td>\n",
       "      <td>0.0</td>\n",
       "      <td>0.0</td>\n",
       "      <td>0.0</td>\n",
       "      <td>0.0</td>\n",
       "    </tr>\n",
       "    <tr>\n",
       "      <th>1128091</th>\n",
       "      <td>3</td>\n",
       "      <td>6</td>\n",
       "      <td>0</td>\n",
       "      <td>6</td>\n",
       "      <td>3</td>\n",
       "      <td>59</td>\n",
       "      <td>160</td>\n",
       "      <td>American_Airlines_Inc</td>\n",
       "      <td>23912</td>\n",
       "      <td>78308</td>\n",
       "      <td>...</td>\n",
       "      <td>1.0</td>\n",
       "      <td>0.0</td>\n",
       "      <td>0.0</td>\n",
       "      <td>0.0</td>\n",
       "      <td>0.0</td>\n",
       "      <td>0.0</td>\n",
       "      <td>0.0</td>\n",
       "      <td>0.0</td>\n",
       "      <td>0.0</td>\n",
       "      <td>0.0</td>\n",
       "    </tr>\n",
       "    <tr>\n",
       "      <th>6353541</th>\n",
       "      <td>12</td>\n",
       "      <td>1</td>\n",
       "      <td>0</td>\n",
       "      <td>4</td>\n",
       "      <td>5</td>\n",
       "      <td>18</td>\n",
       "      <td>76</td>\n",
       "      <td>American_Eagle_Airlines_Inc</td>\n",
       "      <td>11092</td>\n",
       "      <td>26721</td>\n",
       "      <td>...</td>\n",
       "      <td>0.0</td>\n",
       "      <td>0.0</td>\n",
       "      <td>0.0</td>\n",
       "      <td>0.0</td>\n",
       "      <td>1.0</td>\n",
       "      <td>0.0</td>\n",
       "      <td>0.0</td>\n",
       "      <td>0.0</td>\n",
       "      <td>0.0</td>\n",
       "      <td>0.0</td>\n",
       "    </tr>\n",
       "  </tbody>\n",
       "</table>\n",
       "<p>5 rows × 44 columns</p>\n",
       "</div>"
      ],
      "text/plain": [
       "         MONTH  DAY_OF_WEEK  DEP_DEL15  DISTANCE_GROUP  SEGMENT_NUMBER  \\\n",
       "878260       2            3          0               2               3   \n",
       "831799       2            2          0               2               4   \n",
       "3525791      7            7          0               5               1   \n",
       "1128091      3            6          0               6               3   \n",
       "6353541     12            1          0               4               5   \n",
       "\n",
       "         CONCURRENT_FLIGHTS  NUMBER_OF_SEATS                 CARRIER_NAME  \\\n",
       "878260                    7               50  American_Eagle_Airlines_Inc   \n",
       "831799                   64               70                   Comair_Inc   \n",
       "3525791                  13              120         United_Air_Lines_Inc   \n",
       "1128091                  59              160        American_Airlines_Inc   \n",
       "6353541                  18               76  American_Eagle_Airlines_Inc   \n",
       "\n",
       "         AIRPORT_FLIGHTS_MONTH  AIRLINE_FLIGHTS_MONTH  ...  \\\n",
       "878260                    2459                  21895  ...   \n",
       "831799                   17206                  20452  ...   \n",
       "3525791                   4068                  55374  ...   \n",
       "1128091                  23912                  78308  ...   \n",
       "6353541                  11092                  26721  ...   \n",
       "\n",
       "         DEP_TIME_BLK_1400_1459  DEP_TIME_BLK_1500_1559  \\\n",
       "878260                      0.0                     1.0   \n",
       "831799                      0.0                     0.0   \n",
       "3525791                     0.0                     0.0   \n",
       "1128091                     1.0                     0.0   \n",
       "6353541                     0.0                     0.0   \n",
       "\n",
       "         DEP_TIME_BLK_1600_1659  DEP_TIME_BLK_1700_1759  \\\n",
       "878260                      0.0                     0.0   \n",
       "831799                      0.0                     0.0   \n",
       "3525791                     0.0                     0.0   \n",
       "1128091                     0.0                     0.0   \n",
       "6353541                     0.0                     0.0   \n",
       "\n",
       "         DEP_TIME_BLK_1800_1859  DEP_TIME_BLK_1900_1959  \\\n",
       "878260                      0.0                     0.0   \n",
       "831799                      0.0                     0.0   \n",
       "3525791                     0.0                     0.0   \n",
       "1128091                     0.0                     0.0   \n",
       "6353541                     1.0                     0.0   \n",
       "\n",
       "        DEP_TIME_BLK_2000_2059  DEP_TIME_BLK_2100_2159  \\\n",
       "878260                     0.0                     0.0   \n",
       "831799                     0.0                     0.0   \n",
       "3525791                    0.0                     0.0   \n",
       "1128091                    0.0                     0.0   \n",
       "6353541                    0.0                     0.0   \n",
       "\n",
       "         DEP_TIME_BLK_2200_2259 DEP_TIME_BLK_2300_2359  \n",
       "878260                      0.0                    0.0  \n",
       "831799                      0.0                    0.0  \n",
       "3525791                     0.0                    0.0  \n",
       "1128091                     0.0                    0.0  \n",
       "6353541                     0.0                    0.0  \n",
       "\n",
       "[5 rows x 44 columns]"
      ]
     },
     "execution_count": 56,
     "metadata": {},
     "output_type": "execute_result"
    }
   ],
   "source": [
    "delay_block.sample(5)"
   ]
  },
  {
   "cell_type": "code",
   "execution_count": 57,
   "metadata": {},
   "outputs": [],
   "source": [
    "# Fit the encoder and produce encoded DataFrame (CARRIER_NAME)\n",
    "encode_df = pd.DataFrame(enc.fit_transform(delay_block.CARRIER_NAME.values.reshape(-1,1)))"
   ]
  },
  {
   "cell_type": "code",
   "execution_count": 58,
   "metadata": {},
   "outputs": [
    {
     "name": "stderr",
     "output_type": "stream",
     "text": [
      "/Users/luispsalazar/opt/anaconda3/envs/mlenv/lib/python3.7/site-packages/sklearn/utils/deprecation.py:87: FutureWarning: Function get_feature_names is deprecated; get_feature_names is deprecated in 1.0 and will be removed in 1.2. Please use get_feature_names_out instead.\n",
      "  warnings.warn(msg, category=FutureWarning)\n"
     ]
    },
    {
     "data": {
      "text/html": [
       "<div>\n",
       "<style scoped>\n",
       "    .dataframe tbody tr th:only-of-type {\n",
       "        vertical-align: middle;\n",
       "    }\n",
       "\n",
       "    .dataframe tbody tr th {\n",
       "        vertical-align: top;\n",
       "    }\n",
       "\n",
       "    .dataframe thead th {\n",
       "        text-align: right;\n",
       "    }\n",
       "</style>\n",
       "<table border=\"1\" class=\"dataframe\">\n",
       "  <thead>\n",
       "    <tr style=\"text-align: right;\">\n",
       "      <th></th>\n",
       "      <th>CARRIER_NAME_Alaska_Airlines_Inc</th>\n",
       "      <th>CARRIER_NAME_Allegiant_Air</th>\n",
       "      <th>CARRIER_NAME_American_Airlines_Inc</th>\n",
       "      <th>CARRIER_NAME_American_Eagle_Airlines_Inc</th>\n",
       "      <th>CARRIER_NAME_Atlantic_Southeast_Airlines</th>\n",
       "      <th>CARRIER_NAME_Comair_Inc</th>\n",
       "      <th>CARRIER_NAME_Delta_Air_Lines_Inc</th>\n",
       "      <th>CARRIER_NAME_Endeavor_Air_Inc</th>\n",
       "      <th>CARRIER_NAME_Frontier_Airlines_Inc</th>\n",
       "      <th>CARRIER_NAME_Hawaiian_Airlines_Inc</th>\n",
       "      <th>CARRIER_NAME_JetBlue_Airways</th>\n",
       "      <th>CARRIER_NAME_Mesa_Airlines_Inc</th>\n",
       "      <th>CARRIER_NAME_Midwest_Airline,_Inc</th>\n",
       "      <th>CARRIER_NAME_SkyWest_Airlines_Inc</th>\n",
       "      <th>CARRIER_NAME_Southwest_Airlines_Co</th>\n",
       "      <th>CARRIER_NAME_Spirit_Air_Lines</th>\n",
       "      <th>CARRIER_NAME_United_Air_Lines_Inc</th>\n",
       "    </tr>\n",
       "  </thead>\n",
       "  <tbody>\n",
       "    <tr>\n",
       "      <th>0</th>\n",
       "      <td>0.0</td>\n",
       "      <td>0.0</td>\n",
       "      <td>0.0</td>\n",
       "      <td>0.0</td>\n",
       "      <td>0.0</td>\n",
       "      <td>0.0</td>\n",
       "      <td>0.0</td>\n",
       "      <td>0.0</td>\n",
       "      <td>0.0</td>\n",
       "      <td>0.0</td>\n",
       "      <td>0.0</td>\n",
       "      <td>0.0</td>\n",
       "      <td>0.0</td>\n",
       "      <td>0.0</td>\n",
       "      <td>1.0</td>\n",
       "      <td>0.0</td>\n",
       "      <td>0.0</td>\n",
       "    </tr>\n",
       "    <tr>\n",
       "      <th>1</th>\n",
       "      <td>0.0</td>\n",
       "      <td>0.0</td>\n",
       "      <td>0.0</td>\n",
       "      <td>0.0</td>\n",
       "      <td>0.0</td>\n",
       "      <td>0.0</td>\n",
       "      <td>1.0</td>\n",
       "      <td>0.0</td>\n",
       "      <td>0.0</td>\n",
       "      <td>0.0</td>\n",
       "      <td>0.0</td>\n",
       "      <td>0.0</td>\n",
       "      <td>0.0</td>\n",
       "      <td>0.0</td>\n",
       "      <td>0.0</td>\n",
       "      <td>0.0</td>\n",
       "      <td>0.0</td>\n",
       "    </tr>\n",
       "    <tr>\n",
       "      <th>2</th>\n",
       "      <td>0.0</td>\n",
       "      <td>0.0</td>\n",
       "      <td>0.0</td>\n",
       "      <td>0.0</td>\n",
       "      <td>0.0</td>\n",
       "      <td>0.0</td>\n",
       "      <td>1.0</td>\n",
       "      <td>0.0</td>\n",
       "      <td>0.0</td>\n",
       "      <td>0.0</td>\n",
       "      <td>0.0</td>\n",
       "      <td>0.0</td>\n",
       "      <td>0.0</td>\n",
       "      <td>0.0</td>\n",
       "      <td>0.0</td>\n",
       "      <td>0.0</td>\n",
       "      <td>0.0</td>\n",
       "    </tr>\n",
       "    <tr>\n",
       "      <th>3</th>\n",
       "      <td>0.0</td>\n",
       "      <td>0.0</td>\n",
       "      <td>0.0</td>\n",
       "      <td>0.0</td>\n",
       "      <td>0.0</td>\n",
       "      <td>0.0</td>\n",
       "      <td>1.0</td>\n",
       "      <td>0.0</td>\n",
       "      <td>0.0</td>\n",
       "      <td>0.0</td>\n",
       "      <td>0.0</td>\n",
       "      <td>0.0</td>\n",
       "      <td>0.0</td>\n",
       "      <td>0.0</td>\n",
       "      <td>0.0</td>\n",
       "      <td>0.0</td>\n",
       "      <td>0.0</td>\n",
       "    </tr>\n",
       "    <tr>\n",
       "      <th>4</th>\n",
       "      <td>0.0</td>\n",
       "      <td>0.0</td>\n",
       "      <td>0.0</td>\n",
       "      <td>0.0</td>\n",
       "      <td>0.0</td>\n",
       "      <td>0.0</td>\n",
       "      <td>0.0</td>\n",
       "      <td>0.0</td>\n",
       "      <td>0.0</td>\n",
       "      <td>0.0</td>\n",
       "      <td>0.0</td>\n",
       "      <td>0.0</td>\n",
       "      <td>0.0</td>\n",
       "      <td>0.0</td>\n",
       "      <td>0.0</td>\n",
       "      <td>1.0</td>\n",
       "      <td>0.0</td>\n",
       "    </tr>\n",
       "  </tbody>\n",
       "</table>\n",
       "</div>"
      ],
      "text/plain": [
       "   CARRIER_NAME_Alaska_Airlines_Inc  CARRIER_NAME_Allegiant_Air  \\\n",
       "0                               0.0                         0.0   \n",
       "1                               0.0                         0.0   \n",
       "2                               0.0                         0.0   \n",
       "3                               0.0                         0.0   \n",
       "4                               0.0                         0.0   \n",
       "\n",
       "   CARRIER_NAME_American_Airlines_Inc  \\\n",
       "0                                 0.0   \n",
       "1                                 0.0   \n",
       "2                                 0.0   \n",
       "3                                 0.0   \n",
       "4                                 0.0   \n",
       "\n",
       "   CARRIER_NAME_American_Eagle_Airlines_Inc  \\\n",
       "0                                       0.0   \n",
       "1                                       0.0   \n",
       "2                                       0.0   \n",
       "3                                       0.0   \n",
       "4                                       0.0   \n",
       "\n",
       "   CARRIER_NAME_Atlantic_Southeast_Airlines  CARRIER_NAME_Comair_Inc  \\\n",
       "0                                       0.0                      0.0   \n",
       "1                                       0.0                      0.0   \n",
       "2                                       0.0                      0.0   \n",
       "3                                       0.0                      0.0   \n",
       "4                                       0.0                      0.0   \n",
       "\n",
       "   CARRIER_NAME_Delta_Air_Lines_Inc  CARRIER_NAME_Endeavor_Air_Inc  \\\n",
       "0                               0.0                            0.0   \n",
       "1                               1.0                            0.0   \n",
       "2                               1.0                            0.0   \n",
       "3                               1.0                            0.0   \n",
       "4                               0.0                            0.0   \n",
       "\n",
       "   CARRIER_NAME_Frontier_Airlines_Inc  CARRIER_NAME_Hawaiian_Airlines_Inc  \\\n",
       "0                                 0.0                                 0.0   \n",
       "1                                 0.0                                 0.0   \n",
       "2                                 0.0                                 0.0   \n",
       "3                                 0.0                                 0.0   \n",
       "4                                 0.0                                 0.0   \n",
       "\n",
       "   CARRIER_NAME_JetBlue_Airways  CARRIER_NAME_Mesa_Airlines_Inc  \\\n",
       "0                           0.0                             0.0   \n",
       "1                           0.0                             0.0   \n",
       "2                           0.0                             0.0   \n",
       "3                           0.0                             0.0   \n",
       "4                           0.0                             0.0   \n",
       "\n",
       "   CARRIER_NAME_Midwest_Airline,_Inc  CARRIER_NAME_SkyWest_Airlines_Inc  \\\n",
       "0                                0.0                                0.0   \n",
       "1                                0.0                                0.0   \n",
       "2                                0.0                                0.0   \n",
       "3                                0.0                                0.0   \n",
       "4                                0.0                                0.0   \n",
       "\n",
       "   CARRIER_NAME_Southwest_Airlines_Co  CARRIER_NAME_Spirit_Air_Lines  \\\n",
       "0                                 1.0                            0.0   \n",
       "1                                 0.0                            0.0   \n",
       "2                                 0.0                            0.0   \n",
       "3                                 0.0                            0.0   \n",
       "4                                 0.0                            1.0   \n",
       "\n",
       "   CARRIER_NAME_United_Air_Lines_Inc  \n",
       "0                                0.0  \n",
       "1                                0.0  \n",
       "2                                0.0  \n",
       "3                                0.0  \n",
       "4                                0.0  "
      ]
     },
     "execution_count": 58,
     "metadata": {},
     "output_type": "execute_result"
    }
   ],
   "source": [
    "# Rename encoded columns\n",
    "encode_df.columns = enc.get_feature_names(['CARRIER_NAME'])\n",
    "encode_df.head()"
   ]
  },
  {
   "cell_type": "code",
   "execution_count": 59,
   "metadata": {},
   "outputs": [],
   "source": [
    "# Merge the two DataFrames together and drop the encoded column\n",
    "delay_carrier = delay_block.merge(encode_df,left_index = True, right_index = True).drop([\"CARRIER_NAME\"], axis = 1)"
   ]
  },
  {
   "cell_type": "code",
   "execution_count": 60,
   "metadata": {},
   "outputs": [
    {
     "data": {
      "text/html": [
       "<div>\n",
       "<style scoped>\n",
       "    .dataframe tbody tr th:only-of-type {\n",
       "        vertical-align: middle;\n",
       "    }\n",
       "\n",
       "    .dataframe tbody tr th {\n",
       "        vertical-align: top;\n",
       "    }\n",
       "\n",
       "    .dataframe thead th {\n",
       "        text-align: right;\n",
       "    }\n",
       "</style>\n",
       "<table border=\"1\" class=\"dataframe\">\n",
       "  <thead>\n",
       "    <tr style=\"text-align: right;\">\n",
       "      <th></th>\n",
       "      <th>MONTH</th>\n",
       "      <th>DAY_OF_WEEK</th>\n",
       "      <th>DEP_DEL15</th>\n",
       "      <th>DISTANCE_GROUP</th>\n",
       "      <th>SEGMENT_NUMBER</th>\n",
       "      <th>CONCURRENT_FLIGHTS</th>\n",
       "      <th>NUMBER_OF_SEATS</th>\n",
       "      <th>AIRPORT_FLIGHTS_MONTH</th>\n",
       "      <th>AIRLINE_FLIGHTS_MONTH</th>\n",
       "      <th>AIRLINE_AIRPORT_FLIGHTS_MONTH</th>\n",
       "      <th>...</th>\n",
       "      <th>CARRIER_NAME_Endeavor_Air_Inc</th>\n",
       "      <th>CARRIER_NAME_Frontier_Airlines_Inc</th>\n",
       "      <th>CARRIER_NAME_Hawaiian_Airlines_Inc</th>\n",
       "      <th>CARRIER_NAME_JetBlue_Airways</th>\n",
       "      <th>CARRIER_NAME_Mesa_Airlines_Inc</th>\n",
       "      <th>CARRIER_NAME_Midwest_Airline,_Inc</th>\n",
       "      <th>CARRIER_NAME_SkyWest_Airlines_Inc</th>\n",
       "      <th>CARRIER_NAME_Southwest_Airlines_Co</th>\n",
       "      <th>CARRIER_NAME_Spirit_Air_Lines</th>\n",
       "      <th>CARRIER_NAME_United_Air_Lines_Inc</th>\n",
       "    </tr>\n",
       "  </thead>\n",
       "  <tbody>\n",
       "    <tr>\n",
       "      <th>1767531</th>\n",
       "      <td>4</td>\n",
       "      <td>3</td>\n",
       "      <td>0</td>\n",
       "      <td>2</td>\n",
       "      <td>6</td>\n",
       "      <td>48</td>\n",
       "      <td>50</td>\n",
       "      <td>12902</td>\n",
       "      <td>67082</td>\n",
       "      <td>3682</td>\n",
       "      <td>...</td>\n",
       "      <td>0.0</td>\n",
       "      <td>0.0</td>\n",
       "      <td>0.0</td>\n",
       "      <td>0.0</td>\n",
       "      <td>0.0</td>\n",
       "      <td>0.0</td>\n",
       "      <td>1.0</td>\n",
       "      <td>0.0</td>\n",
       "      <td>0.0</td>\n",
       "      <td>0.0</td>\n",
       "    </tr>\n",
       "    <tr>\n",
       "      <th>815566</th>\n",
       "      <td>2</td>\n",
       "      <td>1</td>\n",
       "      <td>0</td>\n",
       "      <td>3</td>\n",
       "      <td>4</td>\n",
       "      <td>9</td>\n",
       "      <td>128</td>\n",
       "      <td>3548</td>\n",
       "      <td>70199</td>\n",
       "      <td>510</td>\n",
       "      <td>...</td>\n",
       "      <td>0.0</td>\n",
       "      <td>0.0</td>\n",
       "      <td>0.0</td>\n",
       "      <td>0.0</td>\n",
       "      <td>0.0</td>\n",
       "      <td>0.0</td>\n",
       "      <td>0.0</td>\n",
       "      <td>0.0</td>\n",
       "      <td>0.0</td>\n",
       "      <td>0.0</td>\n",
       "    </tr>\n",
       "    <tr>\n",
       "      <th>2842270</th>\n",
       "      <td>6</td>\n",
       "      <td>6</td>\n",
       "      <td>0</td>\n",
       "      <td>5</td>\n",
       "      <td>2</td>\n",
       "      <td>53</td>\n",
       "      <td>76</td>\n",
       "      <td>25390</td>\n",
       "      <td>27159</td>\n",
       "      <td>4996</td>\n",
       "      <td>...</td>\n",
       "      <td>0.0</td>\n",
       "      <td>0.0</td>\n",
       "      <td>0.0</td>\n",
       "      <td>0.0</td>\n",
       "      <td>0.0</td>\n",
       "      <td>0.0</td>\n",
       "      <td>0.0</td>\n",
       "      <td>0.0</td>\n",
       "      <td>0.0</td>\n",
       "      <td>0.0</td>\n",
       "    </tr>\n",
       "    <tr>\n",
       "      <th>1075313</th>\n",
       "      <td>3</td>\n",
       "      <td>5</td>\n",
       "      <td>0</td>\n",
       "      <td>3</td>\n",
       "      <td>2</td>\n",
       "      <td>83</td>\n",
       "      <td>157</td>\n",
       "      <td>33799</td>\n",
       "      <td>84142</td>\n",
       "      <td>21165</td>\n",
       "      <td>...</td>\n",
       "      <td>0.0</td>\n",
       "      <td>0.0</td>\n",
       "      <td>0.0</td>\n",
       "      <td>0.0</td>\n",
       "      <td>0.0</td>\n",
       "      <td>0.0</td>\n",
       "      <td>0.0</td>\n",
       "      <td>0.0</td>\n",
       "      <td>0.0</td>\n",
       "      <td>0.0</td>\n",
       "    </tr>\n",
       "    <tr>\n",
       "      <th>1361162</th>\n",
       "      <td>3</td>\n",
       "      <td>6</td>\n",
       "      <td>0</td>\n",
       "      <td>4</td>\n",
       "      <td>1</td>\n",
       "      <td>6</td>\n",
       "      <td>158</td>\n",
       "      <td>1519</td>\n",
       "      <td>84142</td>\n",
       "      <td>144</td>\n",
       "      <td>...</td>\n",
       "      <td>0.0</td>\n",
       "      <td>0.0</td>\n",
       "      <td>0.0</td>\n",
       "      <td>0.0</td>\n",
       "      <td>0.0</td>\n",
       "      <td>0.0</td>\n",
       "      <td>0.0</td>\n",
       "      <td>0.0</td>\n",
       "      <td>0.0</td>\n",
       "      <td>0.0</td>\n",
       "    </tr>\n",
       "  </tbody>\n",
       "</table>\n",
       "<p>5 rows × 60 columns</p>\n",
       "</div>"
      ],
      "text/plain": [
       "         MONTH  DAY_OF_WEEK  DEP_DEL15  DISTANCE_GROUP  SEGMENT_NUMBER  \\\n",
       "1767531      4            3          0               2               6   \n",
       "815566       2            1          0               3               4   \n",
       "2842270      6            6          0               5               2   \n",
       "1075313      3            5          0               3               2   \n",
       "1361162      3            6          0               4               1   \n",
       "\n",
       "         CONCURRENT_FLIGHTS  NUMBER_OF_SEATS  AIRPORT_FLIGHTS_MONTH  \\\n",
       "1767531                  48               50                  12902   \n",
       "815566                    9              128                   3548   \n",
       "2842270                  53               76                  25390   \n",
       "1075313                  83              157                  33799   \n",
       "1361162                   6              158                   1519   \n",
       "\n",
       "         AIRLINE_FLIGHTS_MONTH  AIRLINE_AIRPORT_FLIGHTS_MONTH  ...  \\\n",
       "1767531                  67082                           3682  ...   \n",
       "815566                   70199                            510  ...   \n",
       "2842270                  27159                           4996  ...   \n",
       "1075313                  84142                          21165  ...   \n",
       "1361162                  84142                            144  ...   \n",
       "\n",
       "         CARRIER_NAME_Endeavor_Air_Inc  CARRIER_NAME_Frontier_Airlines_Inc  \\\n",
       "1767531                            0.0                                 0.0   \n",
       "815566                             0.0                                 0.0   \n",
       "2842270                            0.0                                 0.0   \n",
       "1075313                            0.0                                 0.0   \n",
       "1361162                            0.0                                 0.0   \n",
       "\n",
       "         CARRIER_NAME_Hawaiian_Airlines_Inc  CARRIER_NAME_JetBlue_Airways  \\\n",
       "1767531                                 0.0                           0.0   \n",
       "815566                                  0.0                           0.0   \n",
       "2842270                                 0.0                           0.0   \n",
       "1075313                                 0.0                           0.0   \n",
       "1361162                                 0.0                           0.0   \n",
       "\n",
       "         CARRIER_NAME_Mesa_Airlines_Inc CARRIER_NAME_Midwest_Airline,_Inc  \\\n",
       "1767531                             0.0                               0.0   \n",
       "815566                              0.0                               0.0   \n",
       "2842270                             0.0                               0.0   \n",
       "1075313                             0.0                               0.0   \n",
       "1361162                             0.0                               0.0   \n",
       "\n",
       "         CARRIER_NAME_SkyWest_Airlines_Inc  \\\n",
       "1767531                                1.0   \n",
       "815566                                 0.0   \n",
       "2842270                                0.0   \n",
       "1075313                                0.0   \n",
       "1361162                                0.0   \n",
       "\n",
       "         CARRIER_NAME_Southwest_Airlines_Co CARRIER_NAME_Spirit_Air_Lines  \\\n",
       "1767531                                 0.0                           0.0   \n",
       "815566                                  0.0                           0.0   \n",
       "2842270                                 0.0                           0.0   \n",
       "1075313                                 0.0                           0.0   \n",
       "1361162                                 0.0                           0.0   \n",
       "\n",
       "         CARRIER_NAME_United_Air_Lines_Inc  \n",
       "1767531                                0.0  \n",
       "815566                                 0.0  \n",
       "2842270                                0.0  \n",
       "1075313                                0.0  \n",
       "1361162                                0.0  \n",
       "\n",
       "[5 rows x 60 columns]"
      ]
     },
     "execution_count": 60,
     "metadata": {},
     "output_type": "execute_result"
    }
   ],
   "source": [
    "delay_carrier.sample(5)"
   ]
  },
  {
   "cell_type": "code",
   "execution_count": 61,
   "metadata": {},
   "outputs": [],
   "source": [
    "# Convert DEPARTING_AIRPORT categorical variable\n",
    "encode_df = pd.DataFrame(enc.fit_transform(delay_carrier.DEPARTING_AIRPORT.values.reshape(-1,1)))"
   ]
  },
  {
   "cell_type": "code",
   "execution_count": 62,
   "metadata": {},
   "outputs": [
    {
     "name": "stderr",
     "output_type": "stream",
     "text": [
      "/Users/luispsalazar/opt/anaconda3/envs/mlenv/lib/python3.7/site-packages/sklearn/utils/deprecation.py:87: FutureWarning: Function get_feature_names is deprecated; get_feature_names is deprecated in 1.0 and will be removed in 1.2. Please use get_feature_names_out instead.\n",
      "  warnings.warn(msg, category=FutureWarning)\n"
     ]
    },
    {
     "data": {
      "text/html": [
       "<div>\n",
       "<style scoped>\n",
       "    .dataframe tbody tr th:only-of-type {\n",
       "        vertical-align: middle;\n",
       "    }\n",
       "\n",
       "    .dataframe tbody tr th {\n",
       "        vertical-align: top;\n",
       "    }\n",
       "\n",
       "    .dataframe thead th {\n",
       "        text-align: right;\n",
       "    }\n",
       "</style>\n",
       "<table border=\"1\" class=\"dataframe\">\n",
       "  <thead>\n",
       "    <tr style=\"text-align: right;\">\n",
       "      <th></th>\n",
       "      <th>DEPARTING_AIRPORT_Adams_Field</th>\n",
       "      <th>DEPARTING_AIRPORT_Albany_International</th>\n",
       "      <th>DEPARTING_AIRPORT_Albuquerque_International_Sunport</th>\n",
       "      <th>DEPARTING_AIRPORT_Anchorage_International</th>\n",
       "      <th>DEPARTING_AIRPORT_Atlanta_Municipal</th>\n",
       "      <th>DEPARTING_AIRPORT_Austin___Bergstrom_International</th>\n",
       "      <th>DEPARTING_AIRPORT_Birmingham_Airport</th>\n",
       "      <th>DEPARTING_AIRPORT_Boise_Air_Terminal</th>\n",
       "      <th>DEPARTING_AIRPORT_Bradley_International</th>\n",
       "      <th>DEPARTING_AIRPORT_Charleston_International</th>\n",
       "      <th>...</th>\n",
       "      <th>DEPARTING_AIRPORT_Stapleton_International</th>\n",
       "      <th>DEPARTING_AIRPORT_Syracuse_Hancock_International</th>\n",
       "      <th>DEPARTING_AIRPORT_Tampa_International</th>\n",
       "      <th>DEPARTING_AIRPORT_Theodore_Francis_Green_State</th>\n",
       "      <th>DEPARTING_AIRPORT_Truax_Field</th>\n",
       "      <th>DEPARTING_AIRPORT_Tucson_International</th>\n",
       "      <th>DEPARTING_AIRPORT_Tulsa_International</th>\n",
       "      <th>DEPARTING_AIRPORT_Washington_Dulles_International</th>\n",
       "      <th>DEPARTING_AIRPORT_Will_Rogers_World</th>\n",
       "      <th>DEPARTING_AIRPORT_William_P_Hobby</th>\n",
       "    </tr>\n",
       "  </thead>\n",
       "  <tbody>\n",
       "    <tr>\n",
       "      <th>0</th>\n",
       "      <td>0.0</td>\n",
       "      <td>0.0</td>\n",
       "      <td>0.0</td>\n",
       "      <td>0.0</td>\n",
       "      <td>0.0</td>\n",
       "      <td>0.0</td>\n",
       "      <td>0.0</td>\n",
       "      <td>0.0</td>\n",
       "      <td>0.0</td>\n",
       "      <td>0.0</td>\n",
       "      <td>...</td>\n",
       "      <td>0.0</td>\n",
       "      <td>0.0</td>\n",
       "      <td>0.0</td>\n",
       "      <td>0.0</td>\n",
       "      <td>0.0</td>\n",
       "      <td>0.0</td>\n",
       "      <td>0.0</td>\n",
       "      <td>0.0</td>\n",
       "      <td>0.0</td>\n",
       "      <td>0.0</td>\n",
       "    </tr>\n",
       "    <tr>\n",
       "      <th>1</th>\n",
       "      <td>0.0</td>\n",
       "      <td>0.0</td>\n",
       "      <td>0.0</td>\n",
       "      <td>0.0</td>\n",
       "      <td>0.0</td>\n",
       "      <td>0.0</td>\n",
       "      <td>0.0</td>\n",
       "      <td>0.0</td>\n",
       "      <td>0.0</td>\n",
       "      <td>0.0</td>\n",
       "      <td>...</td>\n",
       "      <td>0.0</td>\n",
       "      <td>0.0</td>\n",
       "      <td>0.0</td>\n",
       "      <td>0.0</td>\n",
       "      <td>0.0</td>\n",
       "      <td>0.0</td>\n",
       "      <td>0.0</td>\n",
       "      <td>0.0</td>\n",
       "      <td>0.0</td>\n",
       "      <td>0.0</td>\n",
       "    </tr>\n",
       "    <tr>\n",
       "      <th>2</th>\n",
       "      <td>0.0</td>\n",
       "      <td>0.0</td>\n",
       "      <td>0.0</td>\n",
       "      <td>0.0</td>\n",
       "      <td>0.0</td>\n",
       "      <td>0.0</td>\n",
       "      <td>0.0</td>\n",
       "      <td>0.0</td>\n",
       "      <td>0.0</td>\n",
       "      <td>0.0</td>\n",
       "      <td>...</td>\n",
       "      <td>0.0</td>\n",
       "      <td>0.0</td>\n",
       "      <td>0.0</td>\n",
       "      <td>0.0</td>\n",
       "      <td>0.0</td>\n",
       "      <td>0.0</td>\n",
       "      <td>0.0</td>\n",
       "      <td>0.0</td>\n",
       "      <td>0.0</td>\n",
       "      <td>0.0</td>\n",
       "    </tr>\n",
       "    <tr>\n",
       "      <th>3</th>\n",
       "      <td>0.0</td>\n",
       "      <td>0.0</td>\n",
       "      <td>0.0</td>\n",
       "      <td>0.0</td>\n",
       "      <td>0.0</td>\n",
       "      <td>0.0</td>\n",
       "      <td>0.0</td>\n",
       "      <td>0.0</td>\n",
       "      <td>0.0</td>\n",
       "      <td>0.0</td>\n",
       "      <td>...</td>\n",
       "      <td>0.0</td>\n",
       "      <td>0.0</td>\n",
       "      <td>0.0</td>\n",
       "      <td>0.0</td>\n",
       "      <td>0.0</td>\n",
       "      <td>0.0</td>\n",
       "      <td>0.0</td>\n",
       "      <td>0.0</td>\n",
       "      <td>0.0</td>\n",
       "      <td>0.0</td>\n",
       "    </tr>\n",
       "    <tr>\n",
       "      <th>4</th>\n",
       "      <td>0.0</td>\n",
       "      <td>0.0</td>\n",
       "      <td>0.0</td>\n",
       "      <td>0.0</td>\n",
       "      <td>0.0</td>\n",
       "      <td>0.0</td>\n",
       "      <td>0.0</td>\n",
       "      <td>0.0</td>\n",
       "      <td>0.0</td>\n",
       "      <td>0.0</td>\n",
       "      <td>...</td>\n",
       "      <td>0.0</td>\n",
       "      <td>0.0</td>\n",
       "      <td>0.0</td>\n",
       "      <td>0.0</td>\n",
       "      <td>0.0</td>\n",
       "      <td>0.0</td>\n",
       "      <td>0.0</td>\n",
       "      <td>0.0</td>\n",
       "      <td>0.0</td>\n",
       "      <td>0.0</td>\n",
       "    </tr>\n",
       "  </tbody>\n",
       "</table>\n",
       "<p>5 rows × 96 columns</p>\n",
       "</div>"
      ],
      "text/plain": [
       "   DEPARTING_AIRPORT_Adams_Field  DEPARTING_AIRPORT_Albany_International  \\\n",
       "0                            0.0                                     0.0   \n",
       "1                            0.0                                     0.0   \n",
       "2                            0.0                                     0.0   \n",
       "3                            0.0                                     0.0   \n",
       "4                            0.0                                     0.0   \n",
       "\n",
       "   DEPARTING_AIRPORT_Albuquerque_International_Sunport  \\\n",
       "0                                                0.0     \n",
       "1                                                0.0     \n",
       "2                                                0.0     \n",
       "3                                                0.0     \n",
       "4                                                0.0     \n",
       "\n",
       "   DEPARTING_AIRPORT_Anchorage_International  \\\n",
       "0                                        0.0   \n",
       "1                                        0.0   \n",
       "2                                        0.0   \n",
       "3                                        0.0   \n",
       "4                                        0.0   \n",
       "\n",
       "   DEPARTING_AIRPORT_Atlanta_Municipal  \\\n",
       "0                                  0.0   \n",
       "1                                  0.0   \n",
       "2                                  0.0   \n",
       "3                                  0.0   \n",
       "4                                  0.0   \n",
       "\n",
       "   DEPARTING_AIRPORT_Austin___Bergstrom_International  \\\n",
       "0                                                0.0    \n",
       "1                                                0.0    \n",
       "2                                                0.0    \n",
       "3                                                0.0    \n",
       "4                                                0.0    \n",
       "\n",
       "   DEPARTING_AIRPORT_Birmingham_Airport  DEPARTING_AIRPORT_Boise_Air_Terminal  \\\n",
       "0                                   0.0                                   0.0   \n",
       "1                                   0.0                                   0.0   \n",
       "2                                   0.0                                   0.0   \n",
       "3                                   0.0                                   0.0   \n",
       "4                                   0.0                                   0.0   \n",
       "\n",
       "   DEPARTING_AIRPORT_Bradley_International  \\\n",
       "0                                      0.0   \n",
       "1                                      0.0   \n",
       "2                                      0.0   \n",
       "3                                      0.0   \n",
       "4                                      0.0   \n",
       "\n",
       "   DEPARTING_AIRPORT_Charleston_International  ...  \\\n",
       "0                                         0.0  ...   \n",
       "1                                         0.0  ...   \n",
       "2                                         0.0  ...   \n",
       "3                                         0.0  ...   \n",
       "4                                         0.0  ...   \n",
       "\n",
       "   DEPARTING_AIRPORT_Stapleton_International  \\\n",
       "0                                        0.0   \n",
       "1                                        0.0   \n",
       "2                                        0.0   \n",
       "3                                        0.0   \n",
       "4                                        0.0   \n",
       "\n",
       "   DEPARTING_AIRPORT_Syracuse_Hancock_International  \\\n",
       "0                                               0.0   \n",
       "1                                               0.0   \n",
       "2                                               0.0   \n",
       "3                                               0.0   \n",
       "4                                               0.0   \n",
       "\n",
       "   DEPARTING_AIRPORT_Tampa_International  \\\n",
       "0                                    0.0   \n",
       "1                                    0.0   \n",
       "2                                    0.0   \n",
       "3                                    0.0   \n",
       "4                                    0.0   \n",
       "\n",
       "   DEPARTING_AIRPORT_Theodore_Francis_Green_State  \\\n",
       "0                                             0.0   \n",
       "1                                             0.0   \n",
       "2                                             0.0   \n",
       "3                                             0.0   \n",
       "4                                             0.0   \n",
       "\n",
       "   DEPARTING_AIRPORT_Truax_Field  DEPARTING_AIRPORT_Tucson_International  \\\n",
       "0                            0.0                                     0.0   \n",
       "1                            0.0                                     0.0   \n",
       "2                            0.0                                     0.0   \n",
       "3                            0.0                                     0.0   \n",
       "4                            0.0                                     0.0   \n",
       "\n",
       "   DEPARTING_AIRPORT_Tulsa_International  \\\n",
       "0                                    0.0   \n",
       "1                                    0.0   \n",
       "2                                    0.0   \n",
       "3                                    0.0   \n",
       "4                                    0.0   \n",
       "\n",
       "   DEPARTING_AIRPORT_Washington_Dulles_International  \\\n",
       "0                                                0.0   \n",
       "1                                                0.0   \n",
       "2                                                0.0   \n",
       "3                                                0.0   \n",
       "4                                                0.0   \n",
       "\n",
       "   DEPARTING_AIRPORT_Will_Rogers_World  DEPARTING_AIRPORT_William_P_Hobby  \n",
       "0                                  0.0                                0.0  \n",
       "1                                  0.0                                0.0  \n",
       "2                                  0.0                                0.0  \n",
       "3                                  0.0                                0.0  \n",
       "4                                  0.0                                0.0  \n",
       "\n",
       "[5 rows x 96 columns]"
      ]
     },
     "execution_count": 62,
     "metadata": {},
     "output_type": "execute_result"
    }
   ],
   "source": [
    "# Rename encoded columns\n",
    "encode_df.columns = enc.get_feature_names(['DEPARTING_AIRPORT'])\n",
    "encode_df.head()"
   ]
  },
  {
   "cell_type": "code",
   "execution_count": 63,
   "metadata": {},
   "outputs": [],
   "source": [
    "# Merge the two DataFrames together and drop the encoded column\n",
    "delay_departing = delay_carrier.merge(encode_df,left_index = True, right_index = True).drop([\"DEPARTING_AIRPORT\"], axis = 1)"
   ]
  },
  {
   "cell_type": "code",
   "execution_count": 64,
   "metadata": {},
   "outputs": [
    {
     "data": {
      "text/html": [
       "<div>\n",
       "<style scoped>\n",
       "    .dataframe tbody tr th:only-of-type {\n",
       "        vertical-align: middle;\n",
       "    }\n",
       "\n",
       "    .dataframe tbody tr th {\n",
       "        vertical-align: top;\n",
       "    }\n",
       "\n",
       "    .dataframe thead th {\n",
       "        text-align: right;\n",
       "    }\n",
       "</style>\n",
       "<table border=\"1\" class=\"dataframe\">\n",
       "  <thead>\n",
       "    <tr style=\"text-align: right;\">\n",
       "      <th></th>\n",
       "      <th>MONTH</th>\n",
       "      <th>DAY_OF_WEEK</th>\n",
       "      <th>DEP_DEL15</th>\n",
       "      <th>DISTANCE_GROUP</th>\n",
       "      <th>SEGMENT_NUMBER</th>\n",
       "      <th>CONCURRENT_FLIGHTS</th>\n",
       "      <th>NUMBER_OF_SEATS</th>\n",
       "      <th>AIRPORT_FLIGHTS_MONTH</th>\n",
       "      <th>AIRLINE_FLIGHTS_MONTH</th>\n",
       "      <th>AIRLINE_AIRPORT_FLIGHTS_MONTH</th>\n",
       "      <th>...</th>\n",
       "      <th>DEPARTING_AIRPORT_Stapleton_International</th>\n",
       "      <th>DEPARTING_AIRPORT_Syracuse_Hancock_International</th>\n",
       "      <th>DEPARTING_AIRPORT_Tampa_International</th>\n",
       "      <th>DEPARTING_AIRPORT_Theodore_Francis_Green_State</th>\n",
       "      <th>DEPARTING_AIRPORT_Truax_Field</th>\n",
       "      <th>DEPARTING_AIRPORT_Tucson_International</th>\n",
       "      <th>DEPARTING_AIRPORT_Tulsa_International</th>\n",
       "      <th>DEPARTING_AIRPORT_Washington_Dulles_International</th>\n",
       "      <th>DEPARTING_AIRPORT_Will_Rogers_World</th>\n",
       "      <th>DEPARTING_AIRPORT_William_P_Hobby</th>\n",
       "    </tr>\n",
       "  </thead>\n",
       "  <tbody>\n",
       "    <tr>\n",
       "      <th>5146050</th>\n",
       "      <td>10</td>\n",
       "      <td>2</td>\n",
       "      <td>0</td>\n",
       "      <td>2</td>\n",
       "      <td>3</td>\n",
       "      <td>6</td>\n",
       "      <td>50</td>\n",
       "      <td>2796</td>\n",
       "      <td>27632</td>\n",
       "      <td>104</td>\n",
       "      <td>...</td>\n",
       "      <td>0.0</td>\n",
       "      <td>0.0</td>\n",
       "      <td>0.0</td>\n",
       "      <td>0.0</td>\n",
       "      <td>0.0</td>\n",
       "      <td>0.0</td>\n",
       "      <td>0.0</td>\n",
       "      <td>0.0</td>\n",
       "      <td>0.0</td>\n",
       "      <td>0.0</td>\n",
       "    </tr>\n",
       "    <tr>\n",
       "      <th>3307949</th>\n",
       "      <td>7</td>\n",
       "      <td>2</td>\n",
       "      <td>0</td>\n",
       "      <td>1</td>\n",
       "      <td>5</td>\n",
       "      <td>52</td>\n",
       "      <td>50</td>\n",
       "      <td>35086</td>\n",
       "      <td>72721</td>\n",
       "      <td>2297</td>\n",
       "      <td>...</td>\n",
       "      <td>0.0</td>\n",
       "      <td>0.0</td>\n",
       "      <td>0.0</td>\n",
       "      <td>0.0</td>\n",
       "      <td>0.0</td>\n",
       "      <td>0.0</td>\n",
       "      <td>0.0</td>\n",
       "      <td>0.0</td>\n",
       "      <td>0.0</td>\n",
       "      <td>0.0</td>\n",
       "    </tr>\n",
       "    <tr>\n",
       "      <th>1968541</th>\n",
       "      <td>4</td>\n",
       "      <td>3</td>\n",
       "      <td>0</td>\n",
       "      <td>3</td>\n",
       "      <td>5</td>\n",
       "      <td>8</td>\n",
       "      <td>66</td>\n",
       "      <td>3815</td>\n",
       "      <td>67082</td>\n",
       "      <td>101</td>\n",
       "      <td>...</td>\n",
       "      <td>0.0</td>\n",
       "      <td>0.0</td>\n",
       "      <td>0.0</td>\n",
       "      <td>0.0</td>\n",
       "      <td>0.0</td>\n",
       "      <td>0.0</td>\n",
       "      <td>0.0</td>\n",
       "      <td>0.0</td>\n",
       "      <td>0.0</td>\n",
       "      <td>0.0</td>\n",
       "    </tr>\n",
       "    <tr>\n",
       "      <th>6279531</th>\n",
       "      <td>12</td>\n",
       "      <td>1</td>\n",
       "      <td>1</td>\n",
       "      <td>2</td>\n",
       "      <td>2</td>\n",
       "      <td>18</td>\n",
       "      <td>146</td>\n",
       "      <td>13645</td>\n",
       "      <td>21752</td>\n",
       "      <td>1778</td>\n",
       "      <td>...</td>\n",
       "      <td>0.0</td>\n",
       "      <td>0.0</td>\n",
       "      <td>0.0</td>\n",
       "      <td>0.0</td>\n",
       "      <td>0.0</td>\n",
       "      <td>0.0</td>\n",
       "      <td>0.0</td>\n",
       "      <td>0.0</td>\n",
       "      <td>0.0</td>\n",
       "      <td>0.0</td>\n",
       "    </tr>\n",
       "    <tr>\n",
       "      <th>6065320</th>\n",
       "      <td>12</td>\n",
       "      <td>3</td>\n",
       "      <td>0</td>\n",
       "      <td>1</td>\n",
       "      <td>1</td>\n",
       "      <td>18</td>\n",
       "      <td>76</td>\n",
       "      <td>12707</td>\n",
       "      <td>23119</td>\n",
       "      <td>1176</td>\n",
       "      <td>...</td>\n",
       "      <td>0.0</td>\n",
       "      <td>0.0</td>\n",
       "      <td>0.0</td>\n",
       "      <td>0.0</td>\n",
       "      <td>0.0</td>\n",
       "      <td>0.0</td>\n",
       "      <td>0.0</td>\n",
       "      <td>0.0</td>\n",
       "      <td>0.0</td>\n",
       "      <td>0.0</td>\n",
       "    </tr>\n",
       "  </tbody>\n",
       "</table>\n",
       "<p>5 rows × 155 columns</p>\n",
       "</div>"
      ],
      "text/plain": [
       "         MONTH  DAY_OF_WEEK  DEP_DEL15  DISTANCE_GROUP  SEGMENT_NUMBER  \\\n",
       "5146050     10            2          0               2               3   \n",
       "3307949      7            2          0               1               5   \n",
       "1968541      4            3          0               3               5   \n",
       "6279531     12            1          1               2               2   \n",
       "6065320     12            3          0               1               1   \n",
       "\n",
       "         CONCURRENT_FLIGHTS  NUMBER_OF_SEATS  AIRPORT_FLIGHTS_MONTH  \\\n",
       "5146050                   6               50                   2796   \n",
       "3307949                  52               50                  35086   \n",
       "1968541                   8               66                   3815   \n",
       "6279531                  18              146                  13645   \n",
       "6065320                  18               76                  12707   \n",
       "\n",
       "         AIRLINE_FLIGHTS_MONTH  AIRLINE_AIRPORT_FLIGHTS_MONTH  ...  \\\n",
       "5146050                  27632                            104  ...   \n",
       "3307949                  72721                           2297  ...   \n",
       "1968541                  67082                            101  ...   \n",
       "6279531                  21752                           1778  ...   \n",
       "6065320                  23119                           1176  ...   \n",
       "\n",
       "         DEPARTING_AIRPORT_Stapleton_International  \\\n",
       "5146050                                        0.0   \n",
       "3307949                                        0.0   \n",
       "1968541                                        0.0   \n",
       "6279531                                        0.0   \n",
       "6065320                                        0.0   \n",
       "\n",
       "         DEPARTING_AIRPORT_Syracuse_Hancock_International  \\\n",
       "5146050                                               0.0   \n",
       "3307949                                               0.0   \n",
       "1968541                                               0.0   \n",
       "6279531                                               0.0   \n",
       "6065320                                               0.0   \n",
       "\n",
       "         DEPARTING_AIRPORT_Tampa_International  \\\n",
       "5146050                                    0.0   \n",
       "3307949                                    0.0   \n",
       "1968541                                    0.0   \n",
       "6279531                                    0.0   \n",
       "6065320                                    0.0   \n",
       "\n",
       "         DEPARTING_AIRPORT_Theodore_Francis_Green_State  \\\n",
       "5146050                                             0.0   \n",
       "3307949                                             0.0   \n",
       "1968541                                             0.0   \n",
       "6279531                                             0.0   \n",
       "6065320                                             0.0   \n",
       "\n",
       "         DEPARTING_AIRPORT_Truax_Field  \\\n",
       "5146050                            0.0   \n",
       "3307949                            0.0   \n",
       "1968541                            0.0   \n",
       "6279531                            0.0   \n",
       "6065320                            0.0   \n",
       "\n",
       "         DEPARTING_AIRPORT_Tucson_International  \\\n",
       "5146050                                     0.0   \n",
       "3307949                                     0.0   \n",
       "1968541                                     0.0   \n",
       "6279531                                     0.0   \n",
       "6065320                                     0.0   \n",
       "\n",
       "         DEPARTING_AIRPORT_Tulsa_International  \\\n",
       "5146050                                    0.0   \n",
       "3307949                                    0.0   \n",
       "1968541                                    0.0   \n",
       "6279531                                    0.0   \n",
       "6065320                                    0.0   \n",
       "\n",
       "        DEPARTING_AIRPORT_Washington_Dulles_International  \\\n",
       "5146050                                               0.0   \n",
       "3307949                                               0.0   \n",
       "1968541                                               0.0   \n",
       "6279531                                               0.0   \n",
       "6065320                                               0.0   \n",
       "\n",
       "         DEPARTING_AIRPORT_Will_Rogers_World  \\\n",
       "5146050                                  0.0   \n",
       "3307949                                  0.0   \n",
       "1968541                                  0.0   \n",
       "6279531                                  0.0   \n",
       "6065320                                  0.0   \n",
       "\n",
       "         DEPARTING_AIRPORT_William_P_Hobby  \n",
       "5146050                                0.0  \n",
       "3307949                                0.0  \n",
       "1968541                                0.0  \n",
       "6279531                                0.0  \n",
       "6065320                                0.0  \n",
       "\n",
       "[5 rows x 155 columns]"
      ]
     },
     "execution_count": 64,
     "metadata": {},
     "output_type": "execute_result"
    }
   ],
   "source": [
    "delay_departing.sample(5)"
   ]
  },
  {
   "cell_type": "markdown",
   "metadata": {},
   "source": [
    "### Replace with 1 if a previous airport exists (connection flight)"
   ]
  },
  {
   "cell_type": "code",
   "execution_count": 65,
   "metadata": {},
   "outputs": [],
   "source": [
    "delay_departing[\"PREVIOUS_AIRPORT\"] = np.where(delay_departing[\"PREVIOUS_AIRPORT\"] == \"NONE\", 0, 1)"
   ]
  },
  {
   "cell_type": "markdown",
   "metadata": {},
   "source": [
    "### Apply PCA to airport coordinates, reduce from two to one feature"
   ]
  },
  {
   "cell_type": "code",
   "execution_count": 66,
   "metadata": {},
   "outputs": [
    {
     "data": {
      "text/html": [
       "<div>\n",
       "<style scoped>\n",
       "    .dataframe tbody tr th:only-of-type {\n",
       "        vertical-align: middle;\n",
       "    }\n",
       "\n",
       "    .dataframe tbody tr th {\n",
       "        vertical-align: top;\n",
       "    }\n",
       "\n",
       "    .dataframe thead th {\n",
       "        text-align: right;\n",
       "    }\n",
       "</style>\n",
       "<table border=\"1\" class=\"dataframe\">\n",
       "  <thead>\n",
       "    <tr style=\"text-align: right;\">\n",
       "      <th></th>\n",
       "      <th>LATITUDE</th>\n",
       "      <th>LONGITUDE</th>\n",
       "    </tr>\n",
       "  </thead>\n",
       "  <tbody>\n",
       "    <tr>\n",
       "      <th>0</th>\n",
       "      <td>36.08</td>\n",
       "      <td>-115.152</td>\n",
       "    </tr>\n",
       "    <tr>\n",
       "      <th>1</th>\n",
       "      <td>36.08</td>\n",
       "      <td>-115.152</td>\n",
       "    </tr>\n",
       "    <tr>\n",
       "      <th>2</th>\n",
       "      <td>36.08</td>\n",
       "      <td>-115.152</td>\n",
       "    </tr>\n",
       "    <tr>\n",
       "      <th>3</th>\n",
       "      <td>36.08</td>\n",
       "      <td>-115.152</td>\n",
       "    </tr>\n",
       "    <tr>\n",
       "      <th>4</th>\n",
       "      <td>36.08</td>\n",
       "      <td>-115.152</td>\n",
       "    </tr>\n",
       "  </tbody>\n",
       "</table>\n",
       "</div>"
      ],
      "text/plain": [
       "   LATITUDE  LONGITUDE\n",
       "0     36.08   -115.152\n",
       "1     36.08   -115.152\n",
       "2     36.08   -115.152\n",
       "3     36.08   -115.152\n",
       "4     36.08   -115.152"
      ]
     },
     "execution_count": 66,
     "metadata": {},
     "output_type": "execute_result"
    }
   ],
   "source": [
    "coord_pca = delay_departing[['LATITUDE', 'LONGITUDE']]\n",
    "coord_pca.head()"
   ]
  },
  {
   "cell_type": "code",
   "execution_count": 67,
   "metadata": {},
   "outputs": [],
   "source": [
    "# Initialize PCA model\n",
    "pca = PCA(n_components = 1)"
   ]
  },
  {
   "cell_type": "code",
   "execution_count": 68,
   "metadata": {},
   "outputs": [
    {
     "data": {
      "text/plain": [
       "array([[20.90469902],\n",
       "       [20.90469902],\n",
       "       [20.90469902],\n",
       "       ...,\n",
       "       [65.6518818 ],\n",
       "       [65.6518818 ],\n",
       "       [65.6518818 ]])"
      ]
     },
     "execution_count": 68,
     "metadata": {},
     "output_type": "execute_result"
    }
   ],
   "source": [
    "# Get principal component for the dataset\n",
    "transfor_coord = pca.fit_transform(coord_pca)\n",
    "transfor_coord"
   ]
  },
  {
   "cell_type": "code",
   "execution_count": 69,
   "metadata": {},
   "outputs": [
    {
     "data": {
      "text/html": [
       "<div>\n",
       "<style scoped>\n",
       "    .dataframe tbody tr th:only-of-type {\n",
       "        vertical-align: middle;\n",
       "    }\n",
       "\n",
       "    .dataframe tbody tr th {\n",
       "        vertical-align: top;\n",
       "    }\n",
       "\n",
       "    .dataframe thead th {\n",
       "        text-align: right;\n",
       "    }\n",
       "</style>\n",
       "<table border=\"1\" class=\"dataframe\">\n",
       "  <thead>\n",
       "    <tr style=\"text-align: right;\">\n",
       "      <th></th>\n",
       "      <th>principal_component</th>\n",
       "    </tr>\n",
       "  </thead>\n",
       "  <tbody>\n",
       "    <tr>\n",
       "      <th>3854915</th>\n",
       "      <td>17.875506</td>\n",
       "    </tr>\n",
       "    <tr>\n",
       "      <th>1371889</th>\n",
       "      <td>-9.690771</td>\n",
       "    </tr>\n",
       "    <tr>\n",
       "      <th>4432002</th>\n",
       "      <td>-23.466252</td>\n",
       "    </tr>\n",
       "    <tr>\n",
       "      <th>3442218</th>\n",
       "      <td>-12.592797</td>\n",
       "    </tr>\n",
       "    <tr>\n",
       "      <th>926829</th>\n",
       "      <td>-17.672370</td>\n",
       "    </tr>\n",
       "  </tbody>\n",
       "</table>\n",
       "</div>"
      ],
      "text/plain": [
       "         principal_component\n",
       "3854915            17.875506\n",
       "1371889            -9.690771\n",
       "4432002           -23.466252\n",
       "3442218           -12.592797\n",
       "926829            -17.672370"
      ]
     },
     "execution_count": 69,
     "metadata": {},
     "output_type": "execute_result"
    }
   ],
   "source": [
    "# Transform PCA data to a DataFrame\n",
    "new_coord = pd.DataFrame(data = transfor_coord, columns = [\"principal_component\"])\n",
    "new_coord.sample(5)"
   ]
  },
  {
   "cell_type": "code",
   "execution_count": 70,
   "metadata": {},
   "outputs": [
    {
     "data": {
      "text/plain": [
       "array([0.91525953])"
      ]
     },
     "execution_count": 70,
     "metadata": {},
     "output_type": "execute_result"
    }
   ],
   "source": [
    "# Explained variance\n",
    "pca.explained_variance_ratio_"
   ]
  },
  {
   "cell_type": "markdown",
   "metadata": {},
   "source": [
    "### Remove LATITUDE and LONGITUD\n",
    "### Merge dataframe with one PCA feature"
   ]
  },
  {
   "cell_type": "code",
   "execution_count": 71,
   "metadata": {},
   "outputs": [],
   "source": [
    "delay_departing.drop(['LATITUDE', 'LONGITUDE'], axis = 1, inplace = True)"
   ]
  },
  {
   "cell_type": "code",
   "execution_count": 72,
   "metadata": {},
   "outputs": [
    {
     "data": {
      "text/html": [
       "<div>\n",
       "<style scoped>\n",
       "    .dataframe tbody tr th:only-of-type {\n",
       "        vertical-align: middle;\n",
       "    }\n",
       "\n",
       "    .dataframe tbody tr th {\n",
       "        vertical-align: top;\n",
       "    }\n",
       "\n",
       "    .dataframe thead th {\n",
       "        text-align: right;\n",
       "    }\n",
       "</style>\n",
       "<table border=\"1\" class=\"dataframe\">\n",
       "  <thead>\n",
       "    <tr style=\"text-align: right;\">\n",
       "      <th></th>\n",
       "      <th>MONTH</th>\n",
       "      <th>DAY_OF_WEEK</th>\n",
       "      <th>DEP_DEL15</th>\n",
       "      <th>DISTANCE_GROUP</th>\n",
       "      <th>SEGMENT_NUMBER</th>\n",
       "      <th>CONCURRENT_FLIGHTS</th>\n",
       "      <th>NUMBER_OF_SEATS</th>\n",
       "      <th>AIRPORT_FLIGHTS_MONTH</th>\n",
       "      <th>AIRLINE_FLIGHTS_MONTH</th>\n",
       "      <th>AIRLINE_AIRPORT_FLIGHTS_MONTH</th>\n",
       "      <th>...</th>\n",
       "      <th>DEPARTING_AIRPORT_Syracuse_Hancock_International</th>\n",
       "      <th>DEPARTING_AIRPORT_Tampa_International</th>\n",
       "      <th>DEPARTING_AIRPORT_Theodore_Francis_Green_State</th>\n",
       "      <th>DEPARTING_AIRPORT_Truax_Field</th>\n",
       "      <th>DEPARTING_AIRPORT_Tucson_International</th>\n",
       "      <th>DEPARTING_AIRPORT_Tulsa_International</th>\n",
       "      <th>DEPARTING_AIRPORT_Washington_Dulles_International</th>\n",
       "      <th>DEPARTING_AIRPORT_Will_Rogers_World</th>\n",
       "      <th>DEPARTING_AIRPORT_William_P_Hobby</th>\n",
       "      <th>principal_component</th>\n",
       "    </tr>\n",
       "  </thead>\n",
       "  <tbody>\n",
       "    <tr>\n",
       "      <th>0</th>\n",
       "      <td>1</td>\n",
       "      <td>7</td>\n",
       "      <td>0</td>\n",
       "      <td>2</td>\n",
       "      <td>1</td>\n",
       "      <td>25</td>\n",
       "      <td>143</td>\n",
       "      <td>13056</td>\n",
       "      <td>107363</td>\n",
       "      <td>5873</td>\n",
       "      <td>...</td>\n",
       "      <td>0.0</td>\n",
       "      <td>0.0</td>\n",
       "      <td>0.0</td>\n",
       "      <td>0.0</td>\n",
       "      <td>0.0</td>\n",
       "      <td>0.0</td>\n",
       "      <td>0.0</td>\n",
       "      <td>0.0</td>\n",
       "      <td>0.0</td>\n",
       "      <td>20.904699</td>\n",
       "    </tr>\n",
       "    <tr>\n",
       "      <th>1</th>\n",
       "      <td>1</td>\n",
       "      <td>7</td>\n",
       "      <td>0</td>\n",
       "      <td>7</td>\n",
       "      <td>1</td>\n",
       "      <td>29</td>\n",
       "      <td>191</td>\n",
       "      <td>13056</td>\n",
       "      <td>73508</td>\n",
       "      <td>1174</td>\n",
       "      <td>...</td>\n",
       "      <td>0.0</td>\n",
       "      <td>0.0</td>\n",
       "      <td>0.0</td>\n",
       "      <td>0.0</td>\n",
       "      <td>0.0</td>\n",
       "      <td>0.0</td>\n",
       "      <td>0.0</td>\n",
       "      <td>0.0</td>\n",
       "      <td>0.0</td>\n",
       "      <td>20.904699</td>\n",
       "    </tr>\n",
       "    <tr>\n",
       "      <th>2</th>\n",
       "      <td>1</td>\n",
       "      <td>7</td>\n",
       "      <td>0</td>\n",
       "      <td>7</td>\n",
       "      <td>1</td>\n",
       "      <td>27</td>\n",
       "      <td>199</td>\n",
       "      <td>13056</td>\n",
       "      <td>73508</td>\n",
       "      <td>1174</td>\n",
       "      <td>...</td>\n",
       "      <td>0.0</td>\n",
       "      <td>0.0</td>\n",
       "      <td>0.0</td>\n",
       "      <td>0.0</td>\n",
       "      <td>0.0</td>\n",
       "      <td>0.0</td>\n",
       "      <td>0.0</td>\n",
       "      <td>0.0</td>\n",
       "      <td>0.0</td>\n",
       "      <td>20.904699</td>\n",
       "    </tr>\n",
       "    <tr>\n",
       "      <th>3</th>\n",
       "      <td>1</td>\n",
       "      <td>7</td>\n",
       "      <td>0</td>\n",
       "      <td>9</td>\n",
       "      <td>1</td>\n",
       "      <td>27</td>\n",
       "      <td>180</td>\n",
       "      <td>13056</td>\n",
       "      <td>73508</td>\n",
       "      <td>1174</td>\n",
       "      <td>...</td>\n",
       "      <td>0.0</td>\n",
       "      <td>0.0</td>\n",
       "      <td>0.0</td>\n",
       "      <td>0.0</td>\n",
       "      <td>0.0</td>\n",
       "      <td>0.0</td>\n",
       "      <td>0.0</td>\n",
       "      <td>0.0</td>\n",
       "      <td>0.0</td>\n",
       "      <td>20.904699</td>\n",
       "    </tr>\n",
       "    <tr>\n",
       "      <th>4</th>\n",
       "      <td>1</td>\n",
       "      <td>7</td>\n",
       "      <td>0</td>\n",
       "      <td>7</td>\n",
       "      <td>1</td>\n",
       "      <td>10</td>\n",
       "      <td>182</td>\n",
       "      <td>13056</td>\n",
       "      <td>15023</td>\n",
       "      <td>1257</td>\n",
       "      <td>...</td>\n",
       "      <td>0.0</td>\n",
       "      <td>0.0</td>\n",
       "      <td>0.0</td>\n",
       "      <td>0.0</td>\n",
       "      <td>0.0</td>\n",
       "      <td>0.0</td>\n",
       "      <td>0.0</td>\n",
       "      <td>0.0</td>\n",
       "      <td>0.0</td>\n",
       "      <td>20.904699</td>\n",
       "    </tr>\n",
       "    <tr>\n",
       "      <th>...</th>\n",
       "      <td>...</td>\n",
       "      <td>...</td>\n",
       "      <td>...</td>\n",
       "      <td>...</td>\n",
       "      <td>...</td>\n",
       "      <td>...</td>\n",
       "      <td>...</td>\n",
       "      <td>...</td>\n",
       "      <td>...</td>\n",
       "      <td>...</td>\n",
       "      <td>...</td>\n",
       "      <td>...</td>\n",
       "      <td>...</td>\n",
       "      <td>...</td>\n",
       "      <td>...</td>\n",
       "      <td>...</td>\n",
       "      <td>...</td>\n",
       "      <td>...</td>\n",
       "      <td>...</td>\n",
       "      <td>...</td>\n",
       "      <td>...</td>\n",
       "    </tr>\n",
       "    <tr>\n",
       "      <th>6489057</th>\n",
       "      <td>12</td>\n",
       "      <td>7</td>\n",
       "      <td>0</td>\n",
       "      <td>1</td>\n",
       "      <td>11</td>\n",
       "      <td>3</td>\n",
       "      <td>123</td>\n",
       "      <td>1318</td>\n",
       "      <td>7268</td>\n",
       "      <td>757</td>\n",
       "      <td>...</td>\n",
       "      <td>0.0</td>\n",
       "      <td>0.0</td>\n",
       "      <td>0.0</td>\n",
       "      <td>0.0</td>\n",
       "      <td>0.0</td>\n",
       "      <td>0.0</td>\n",
       "      <td>0.0</td>\n",
       "      <td>0.0</td>\n",
       "      <td>0.0</td>\n",
       "      <td>65.651882</td>\n",
       "    </tr>\n",
       "    <tr>\n",
       "      <th>6489058</th>\n",
       "      <td>12</td>\n",
       "      <td>7</td>\n",
       "      <td>0</td>\n",
       "      <td>1</td>\n",
       "      <td>11</td>\n",
       "      <td>2</td>\n",
       "      <td>123</td>\n",
       "      <td>1318</td>\n",
       "      <td>7268</td>\n",
       "      <td>757</td>\n",
       "      <td>...</td>\n",
       "      <td>0.0</td>\n",
       "      <td>0.0</td>\n",
       "      <td>0.0</td>\n",
       "      <td>0.0</td>\n",
       "      <td>0.0</td>\n",
       "      <td>0.0</td>\n",
       "      <td>0.0</td>\n",
       "      <td>0.0</td>\n",
       "      <td>0.0</td>\n",
       "      <td>65.651882</td>\n",
       "    </tr>\n",
       "    <tr>\n",
       "      <th>6489059</th>\n",
       "      <td>12</td>\n",
       "      <td>7</td>\n",
       "      <td>0</td>\n",
       "      <td>1</td>\n",
       "      <td>11</td>\n",
       "      <td>2</td>\n",
       "      <td>123</td>\n",
       "      <td>1318</td>\n",
       "      <td>7268</td>\n",
       "      <td>757</td>\n",
       "      <td>...</td>\n",
       "      <td>0.0</td>\n",
       "      <td>0.0</td>\n",
       "      <td>0.0</td>\n",
       "      <td>0.0</td>\n",
       "      <td>0.0</td>\n",
       "      <td>0.0</td>\n",
       "      <td>0.0</td>\n",
       "      <td>0.0</td>\n",
       "      <td>0.0</td>\n",
       "      <td>65.651882</td>\n",
       "    </tr>\n",
       "    <tr>\n",
       "      <th>6489060</th>\n",
       "      <td>12</td>\n",
       "      <td>7</td>\n",
       "      <td>0</td>\n",
       "      <td>1</td>\n",
       "      <td>12</td>\n",
       "      <td>3</td>\n",
       "      <td>123</td>\n",
       "      <td>1318</td>\n",
       "      <td>7268</td>\n",
       "      <td>757</td>\n",
       "      <td>...</td>\n",
       "      <td>0.0</td>\n",
       "      <td>0.0</td>\n",
       "      <td>0.0</td>\n",
       "      <td>0.0</td>\n",
       "      <td>0.0</td>\n",
       "      <td>0.0</td>\n",
       "      <td>0.0</td>\n",
       "      <td>0.0</td>\n",
       "      <td>0.0</td>\n",
       "      <td>65.651882</td>\n",
       "    </tr>\n",
       "    <tr>\n",
       "      <th>6489061</th>\n",
       "      <td>12</td>\n",
       "      <td>7</td>\n",
       "      <td>1</td>\n",
       "      <td>1</td>\n",
       "      <td>12</td>\n",
       "      <td>3</td>\n",
       "      <td>123</td>\n",
       "      <td>1318</td>\n",
       "      <td>7268</td>\n",
       "      <td>757</td>\n",
       "      <td>...</td>\n",
       "      <td>0.0</td>\n",
       "      <td>0.0</td>\n",
       "      <td>0.0</td>\n",
       "      <td>0.0</td>\n",
       "      <td>0.0</td>\n",
       "      <td>0.0</td>\n",
       "      <td>0.0</td>\n",
       "      <td>0.0</td>\n",
       "      <td>0.0</td>\n",
       "      <td>65.651882</td>\n",
       "    </tr>\n",
       "  </tbody>\n",
       "</table>\n",
       "<p>6489062 rows × 154 columns</p>\n",
       "</div>"
      ],
      "text/plain": [
       "         MONTH  DAY_OF_WEEK  DEP_DEL15  DISTANCE_GROUP  SEGMENT_NUMBER  \\\n",
       "0            1            7          0               2               1   \n",
       "1            1            7          0               7               1   \n",
       "2            1            7          0               7               1   \n",
       "3            1            7          0               9               1   \n",
       "4            1            7          0               7               1   \n",
       "...        ...          ...        ...             ...             ...   \n",
       "6489057     12            7          0               1              11   \n",
       "6489058     12            7          0               1              11   \n",
       "6489059     12            7          0               1              11   \n",
       "6489060     12            7          0               1              12   \n",
       "6489061     12            7          1               1              12   \n",
       "\n",
       "         CONCURRENT_FLIGHTS  NUMBER_OF_SEATS  AIRPORT_FLIGHTS_MONTH  \\\n",
       "0                        25              143                  13056   \n",
       "1                        29              191                  13056   \n",
       "2                        27              199                  13056   \n",
       "3                        27              180                  13056   \n",
       "4                        10              182                  13056   \n",
       "...                     ...              ...                    ...   \n",
       "6489057                   3              123                   1318   \n",
       "6489058                   2              123                   1318   \n",
       "6489059                   2              123                   1318   \n",
       "6489060                   3              123                   1318   \n",
       "6489061                   3              123                   1318   \n",
       "\n",
       "         AIRLINE_FLIGHTS_MONTH  AIRLINE_AIRPORT_FLIGHTS_MONTH  ...  \\\n",
       "0                       107363                           5873  ...   \n",
       "1                        73508                           1174  ...   \n",
       "2                        73508                           1174  ...   \n",
       "3                        73508                           1174  ...   \n",
       "4                        15023                           1257  ...   \n",
       "...                        ...                            ...  ...   \n",
       "6489057                   7268                            757  ...   \n",
       "6489058                   7268                            757  ...   \n",
       "6489059                   7268                            757  ...   \n",
       "6489060                   7268                            757  ...   \n",
       "6489061                   7268                            757  ...   \n",
       "\n",
       "         DEPARTING_AIRPORT_Syracuse_Hancock_International  \\\n",
       "0                                                     0.0   \n",
       "1                                                     0.0   \n",
       "2                                                     0.0   \n",
       "3                                                     0.0   \n",
       "4                                                     0.0   \n",
       "...                                                   ...   \n",
       "6489057                                               0.0   \n",
       "6489058                                               0.0   \n",
       "6489059                                               0.0   \n",
       "6489060                                               0.0   \n",
       "6489061                                               0.0   \n",
       "\n",
       "         DEPARTING_AIRPORT_Tampa_International  \\\n",
       "0                                          0.0   \n",
       "1                                          0.0   \n",
       "2                                          0.0   \n",
       "3                                          0.0   \n",
       "4                                          0.0   \n",
       "...                                        ...   \n",
       "6489057                                    0.0   \n",
       "6489058                                    0.0   \n",
       "6489059                                    0.0   \n",
       "6489060                                    0.0   \n",
       "6489061                                    0.0   \n",
       "\n",
       "         DEPARTING_AIRPORT_Theodore_Francis_Green_State  \\\n",
       "0                                                   0.0   \n",
       "1                                                   0.0   \n",
       "2                                                   0.0   \n",
       "3                                                   0.0   \n",
       "4                                                   0.0   \n",
       "...                                                 ...   \n",
       "6489057                                             0.0   \n",
       "6489058                                             0.0   \n",
       "6489059                                             0.0   \n",
       "6489060                                             0.0   \n",
       "6489061                                             0.0   \n",
       "\n",
       "         DEPARTING_AIRPORT_Truax_Field  \\\n",
       "0                                  0.0   \n",
       "1                                  0.0   \n",
       "2                                  0.0   \n",
       "3                                  0.0   \n",
       "4                                  0.0   \n",
       "...                                ...   \n",
       "6489057                            0.0   \n",
       "6489058                            0.0   \n",
       "6489059                            0.0   \n",
       "6489060                            0.0   \n",
       "6489061                            0.0   \n",
       "\n",
       "         DEPARTING_AIRPORT_Tucson_International  \\\n",
       "0                                           0.0   \n",
       "1                                           0.0   \n",
       "2                                           0.0   \n",
       "3                                           0.0   \n",
       "4                                           0.0   \n",
       "...                                         ...   \n",
       "6489057                                     0.0   \n",
       "6489058                                     0.0   \n",
       "6489059                                     0.0   \n",
       "6489060                                     0.0   \n",
       "6489061                                     0.0   \n",
       "\n",
       "         DEPARTING_AIRPORT_Tulsa_International  \\\n",
       "0                                          0.0   \n",
       "1                                          0.0   \n",
       "2                                          0.0   \n",
       "3                                          0.0   \n",
       "4                                          0.0   \n",
       "...                                        ...   \n",
       "6489057                                    0.0   \n",
       "6489058                                    0.0   \n",
       "6489059                                    0.0   \n",
       "6489060                                    0.0   \n",
       "6489061                                    0.0   \n",
       "\n",
       "         DEPARTING_AIRPORT_Washington_Dulles_International  \\\n",
       "0                                                      0.0   \n",
       "1                                                      0.0   \n",
       "2                                                      0.0   \n",
       "3                                                      0.0   \n",
       "4                                                      0.0   \n",
       "...                                                    ...   \n",
       "6489057                                                0.0   \n",
       "6489058                                                0.0   \n",
       "6489059                                                0.0   \n",
       "6489060                                                0.0   \n",
       "6489061                                                0.0   \n",
       "\n",
       "         DEPARTING_AIRPORT_Will_Rogers_World  \\\n",
       "0                                        0.0   \n",
       "1                                        0.0   \n",
       "2                                        0.0   \n",
       "3                                        0.0   \n",
       "4                                        0.0   \n",
       "...                                      ...   \n",
       "6489057                                  0.0   \n",
       "6489058                                  0.0   \n",
       "6489059                                  0.0   \n",
       "6489060                                  0.0   \n",
       "6489061                                  0.0   \n",
       "\n",
       "         DEPARTING_AIRPORT_William_P_Hobby  principal_component  \n",
       "0                                      0.0            20.904699  \n",
       "1                                      0.0            20.904699  \n",
       "2                                      0.0            20.904699  \n",
       "3                                      0.0            20.904699  \n",
       "4                                      0.0            20.904699  \n",
       "...                                    ...                  ...  \n",
       "6489057                                0.0            65.651882  \n",
       "6489058                                0.0            65.651882  \n",
       "6489059                                0.0            65.651882  \n",
       "6489060                                0.0            65.651882  \n",
       "6489061                                0.0            65.651882  \n",
       "\n",
       "[6489062 rows x 154 columns]"
      ]
     },
     "execution_count": 72,
     "metadata": {},
     "output_type": "execute_result"
    }
   ],
   "source": [
    "delay_withPCA = pd.concat([delay_departing, new_coord], axis = 1)\n",
    "delay_withPCA"
   ]
  },
  {
   "cell_type": "code",
   "execution_count": 73,
   "metadata": {},
   "outputs": [
    {
     "data": {
      "text/html": [
       "<div>\n",
       "<style scoped>\n",
       "    .dataframe tbody tr th:only-of-type {\n",
       "        vertical-align: middle;\n",
       "    }\n",
       "\n",
       "    .dataframe tbody tr th {\n",
       "        vertical-align: top;\n",
       "    }\n",
       "\n",
       "    .dataframe thead th {\n",
       "        text-align: right;\n",
       "    }\n",
       "</style>\n",
       "<table border=\"1\" class=\"dataframe\">\n",
       "  <thead>\n",
       "    <tr style=\"text-align: right;\">\n",
       "      <th></th>\n",
       "      <th>DEP_DEL15</th>\n",
       "      <th>MONTH</th>\n",
       "      <th>DAY_OF_WEEK</th>\n",
       "      <th>DISTANCE_GROUP</th>\n",
       "      <th>SEGMENT_NUMBER</th>\n",
       "      <th>CONCURRENT_FLIGHTS</th>\n",
       "      <th>NUMBER_OF_SEATS</th>\n",
       "      <th>AIRPORT_FLIGHTS_MONTH</th>\n",
       "      <th>AIRLINE_FLIGHTS_MONTH</th>\n",
       "      <th>AIRLINE_AIRPORT_FLIGHTS_MONTH</th>\n",
       "      <th>...</th>\n",
       "      <th>DEPARTING_AIRPORT_Syracuse_Hancock_International</th>\n",
       "      <th>DEPARTING_AIRPORT_Tampa_International</th>\n",
       "      <th>DEPARTING_AIRPORT_Theodore_Francis_Green_State</th>\n",
       "      <th>DEPARTING_AIRPORT_Truax_Field</th>\n",
       "      <th>DEPARTING_AIRPORT_Tucson_International</th>\n",
       "      <th>DEPARTING_AIRPORT_Tulsa_International</th>\n",
       "      <th>DEPARTING_AIRPORT_Washington_Dulles_International</th>\n",
       "      <th>DEPARTING_AIRPORT_Will_Rogers_World</th>\n",
       "      <th>DEPARTING_AIRPORT_William_P_Hobby</th>\n",
       "      <th>principal_component</th>\n",
       "    </tr>\n",
       "  </thead>\n",
       "  <tbody>\n",
       "    <tr>\n",
       "      <th>0</th>\n",
       "      <td>0</td>\n",
       "      <td>1</td>\n",
       "      <td>7</td>\n",
       "      <td>2</td>\n",
       "      <td>1</td>\n",
       "      <td>25</td>\n",
       "      <td>143</td>\n",
       "      <td>13056</td>\n",
       "      <td>107363</td>\n",
       "      <td>5873</td>\n",
       "      <td>...</td>\n",
       "      <td>0.0</td>\n",
       "      <td>0.0</td>\n",
       "      <td>0.0</td>\n",
       "      <td>0.0</td>\n",
       "      <td>0.0</td>\n",
       "      <td>0.0</td>\n",
       "      <td>0.0</td>\n",
       "      <td>0.0</td>\n",
       "      <td>0.0</td>\n",
       "      <td>20.904699</td>\n",
       "    </tr>\n",
       "    <tr>\n",
       "      <th>1</th>\n",
       "      <td>0</td>\n",
       "      <td>1</td>\n",
       "      <td>7</td>\n",
       "      <td>7</td>\n",
       "      <td>1</td>\n",
       "      <td>29</td>\n",
       "      <td>191</td>\n",
       "      <td>13056</td>\n",
       "      <td>73508</td>\n",
       "      <td>1174</td>\n",
       "      <td>...</td>\n",
       "      <td>0.0</td>\n",
       "      <td>0.0</td>\n",
       "      <td>0.0</td>\n",
       "      <td>0.0</td>\n",
       "      <td>0.0</td>\n",
       "      <td>0.0</td>\n",
       "      <td>0.0</td>\n",
       "      <td>0.0</td>\n",
       "      <td>0.0</td>\n",
       "      <td>20.904699</td>\n",
       "    </tr>\n",
       "    <tr>\n",
       "      <th>2</th>\n",
       "      <td>0</td>\n",
       "      <td>1</td>\n",
       "      <td>7</td>\n",
       "      <td>7</td>\n",
       "      <td>1</td>\n",
       "      <td>27</td>\n",
       "      <td>199</td>\n",
       "      <td>13056</td>\n",
       "      <td>73508</td>\n",
       "      <td>1174</td>\n",
       "      <td>...</td>\n",
       "      <td>0.0</td>\n",
       "      <td>0.0</td>\n",
       "      <td>0.0</td>\n",
       "      <td>0.0</td>\n",
       "      <td>0.0</td>\n",
       "      <td>0.0</td>\n",
       "      <td>0.0</td>\n",
       "      <td>0.0</td>\n",
       "      <td>0.0</td>\n",
       "      <td>20.904699</td>\n",
       "    </tr>\n",
       "    <tr>\n",
       "      <th>3</th>\n",
       "      <td>0</td>\n",
       "      <td>1</td>\n",
       "      <td>7</td>\n",
       "      <td>9</td>\n",
       "      <td>1</td>\n",
       "      <td>27</td>\n",
       "      <td>180</td>\n",
       "      <td>13056</td>\n",
       "      <td>73508</td>\n",
       "      <td>1174</td>\n",
       "      <td>...</td>\n",
       "      <td>0.0</td>\n",
       "      <td>0.0</td>\n",
       "      <td>0.0</td>\n",
       "      <td>0.0</td>\n",
       "      <td>0.0</td>\n",
       "      <td>0.0</td>\n",
       "      <td>0.0</td>\n",
       "      <td>0.0</td>\n",
       "      <td>0.0</td>\n",
       "      <td>20.904699</td>\n",
       "    </tr>\n",
       "    <tr>\n",
       "      <th>4</th>\n",
       "      <td>0</td>\n",
       "      <td>1</td>\n",
       "      <td>7</td>\n",
       "      <td>7</td>\n",
       "      <td>1</td>\n",
       "      <td>10</td>\n",
       "      <td>182</td>\n",
       "      <td>13056</td>\n",
       "      <td>15023</td>\n",
       "      <td>1257</td>\n",
       "      <td>...</td>\n",
       "      <td>0.0</td>\n",
       "      <td>0.0</td>\n",
       "      <td>0.0</td>\n",
       "      <td>0.0</td>\n",
       "      <td>0.0</td>\n",
       "      <td>0.0</td>\n",
       "      <td>0.0</td>\n",
       "      <td>0.0</td>\n",
       "      <td>0.0</td>\n",
       "      <td>20.904699</td>\n",
       "    </tr>\n",
       "    <tr>\n",
       "      <th>...</th>\n",
       "      <td>...</td>\n",
       "      <td>...</td>\n",
       "      <td>...</td>\n",
       "      <td>...</td>\n",
       "      <td>...</td>\n",
       "      <td>...</td>\n",
       "      <td>...</td>\n",
       "      <td>...</td>\n",
       "      <td>...</td>\n",
       "      <td>...</td>\n",
       "      <td>...</td>\n",
       "      <td>...</td>\n",
       "      <td>...</td>\n",
       "      <td>...</td>\n",
       "      <td>...</td>\n",
       "      <td>...</td>\n",
       "      <td>...</td>\n",
       "      <td>...</td>\n",
       "      <td>...</td>\n",
       "      <td>...</td>\n",
       "      <td>...</td>\n",
       "    </tr>\n",
       "    <tr>\n",
       "      <th>6489057</th>\n",
       "      <td>0</td>\n",
       "      <td>12</td>\n",
       "      <td>7</td>\n",
       "      <td>1</td>\n",
       "      <td>11</td>\n",
       "      <td>3</td>\n",
       "      <td>123</td>\n",
       "      <td>1318</td>\n",
       "      <td>7268</td>\n",
       "      <td>757</td>\n",
       "      <td>...</td>\n",
       "      <td>0.0</td>\n",
       "      <td>0.0</td>\n",
       "      <td>0.0</td>\n",
       "      <td>0.0</td>\n",
       "      <td>0.0</td>\n",
       "      <td>0.0</td>\n",
       "      <td>0.0</td>\n",
       "      <td>0.0</td>\n",
       "      <td>0.0</td>\n",
       "      <td>65.651882</td>\n",
       "    </tr>\n",
       "    <tr>\n",
       "      <th>6489058</th>\n",
       "      <td>0</td>\n",
       "      <td>12</td>\n",
       "      <td>7</td>\n",
       "      <td>1</td>\n",
       "      <td>11</td>\n",
       "      <td>2</td>\n",
       "      <td>123</td>\n",
       "      <td>1318</td>\n",
       "      <td>7268</td>\n",
       "      <td>757</td>\n",
       "      <td>...</td>\n",
       "      <td>0.0</td>\n",
       "      <td>0.0</td>\n",
       "      <td>0.0</td>\n",
       "      <td>0.0</td>\n",
       "      <td>0.0</td>\n",
       "      <td>0.0</td>\n",
       "      <td>0.0</td>\n",
       "      <td>0.0</td>\n",
       "      <td>0.0</td>\n",
       "      <td>65.651882</td>\n",
       "    </tr>\n",
       "    <tr>\n",
       "      <th>6489059</th>\n",
       "      <td>0</td>\n",
       "      <td>12</td>\n",
       "      <td>7</td>\n",
       "      <td>1</td>\n",
       "      <td>11</td>\n",
       "      <td>2</td>\n",
       "      <td>123</td>\n",
       "      <td>1318</td>\n",
       "      <td>7268</td>\n",
       "      <td>757</td>\n",
       "      <td>...</td>\n",
       "      <td>0.0</td>\n",
       "      <td>0.0</td>\n",
       "      <td>0.0</td>\n",
       "      <td>0.0</td>\n",
       "      <td>0.0</td>\n",
       "      <td>0.0</td>\n",
       "      <td>0.0</td>\n",
       "      <td>0.0</td>\n",
       "      <td>0.0</td>\n",
       "      <td>65.651882</td>\n",
       "    </tr>\n",
       "    <tr>\n",
       "      <th>6489060</th>\n",
       "      <td>0</td>\n",
       "      <td>12</td>\n",
       "      <td>7</td>\n",
       "      <td>1</td>\n",
       "      <td>12</td>\n",
       "      <td>3</td>\n",
       "      <td>123</td>\n",
       "      <td>1318</td>\n",
       "      <td>7268</td>\n",
       "      <td>757</td>\n",
       "      <td>...</td>\n",
       "      <td>0.0</td>\n",
       "      <td>0.0</td>\n",
       "      <td>0.0</td>\n",
       "      <td>0.0</td>\n",
       "      <td>0.0</td>\n",
       "      <td>0.0</td>\n",
       "      <td>0.0</td>\n",
       "      <td>0.0</td>\n",
       "      <td>0.0</td>\n",
       "      <td>65.651882</td>\n",
       "    </tr>\n",
       "    <tr>\n",
       "      <th>6489061</th>\n",
       "      <td>1</td>\n",
       "      <td>12</td>\n",
       "      <td>7</td>\n",
       "      <td>1</td>\n",
       "      <td>12</td>\n",
       "      <td>3</td>\n",
       "      <td>123</td>\n",
       "      <td>1318</td>\n",
       "      <td>7268</td>\n",
       "      <td>757</td>\n",
       "      <td>...</td>\n",
       "      <td>0.0</td>\n",
       "      <td>0.0</td>\n",
       "      <td>0.0</td>\n",
       "      <td>0.0</td>\n",
       "      <td>0.0</td>\n",
       "      <td>0.0</td>\n",
       "      <td>0.0</td>\n",
       "      <td>0.0</td>\n",
       "      <td>0.0</td>\n",
       "      <td>65.651882</td>\n",
       "    </tr>\n",
       "  </tbody>\n",
       "</table>\n",
       "<p>6489062 rows × 154 columns</p>\n",
       "</div>"
      ],
      "text/plain": [
       "         DEP_DEL15  MONTH  DAY_OF_WEEK  DISTANCE_GROUP  SEGMENT_NUMBER  \\\n",
       "0                0      1            7               2               1   \n",
       "1                0      1            7               7               1   \n",
       "2                0      1            7               7               1   \n",
       "3                0      1            7               9               1   \n",
       "4                0      1            7               7               1   \n",
       "...            ...    ...          ...             ...             ...   \n",
       "6489057          0     12            7               1              11   \n",
       "6489058          0     12            7               1              11   \n",
       "6489059          0     12            7               1              11   \n",
       "6489060          0     12            7               1              12   \n",
       "6489061          1     12            7               1              12   \n",
       "\n",
       "         CONCURRENT_FLIGHTS  NUMBER_OF_SEATS  AIRPORT_FLIGHTS_MONTH  \\\n",
       "0                        25              143                  13056   \n",
       "1                        29              191                  13056   \n",
       "2                        27              199                  13056   \n",
       "3                        27              180                  13056   \n",
       "4                        10              182                  13056   \n",
       "...                     ...              ...                    ...   \n",
       "6489057                   3              123                   1318   \n",
       "6489058                   2              123                   1318   \n",
       "6489059                   2              123                   1318   \n",
       "6489060                   3              123                   1318   \n",
       "6489061                   3              123                   1318   \n",
       "\n",
       "         AIRLINE_FLIGHTS_MONTH  AIRLINE_AIRPORT_FLIGHTS_MONTH  ...  \\\n",
       "0                       107363                           5873  ...   \n",
       "1                        73508                           1174  ...   \n",
       "2                        73508                           1174  ...   \n",
       "3                        73508                           1174  ...   \n",
       "4                        15023                           1257  ...   \n",
       "...                        ...                            ...  ...   \n",
       "6489057                   7268                            757  ...   \n",
       "6489058                   7268                            757  ...   \n",
       "6489059                   7268                            757  ...   \n",
       "6489060                   7268                            757  ...   \n",
       "6489061                   7268                            757  ...   \n",
       "\n",
       "         DEPARTING_AIRPORT_Syracuse_Hancock_International  \\\n",
       "0                                                     0.0   \n",
       "1                                                     0.0   \n",
       "2                                                     0.0   \n",
       "3                                                     0.0   \n",
       "4                                                     0.0   \n",
       "...                                                   ...   \n",
       "6489057                                               0.0   \n",
       "6489058                                               0.0   \n",
       "6489059                                               0.0   \n",
       "6489060                                               0.0   \n",
       "6489061                                               0.0   \n",
       "\n",
       "         DEPARTING_AIRPORT_Tampa_International  \\\n",
       "0                                          0.0   \n",
       "1                                          0.0   \n",
       "2                                          0.0   \n",
       "3                                          0.0   \n",
       "4                                          0.0   \n",
       "...                                        ...   \n",
       "6489057                                    0.0   \n",
       "6489058                                    0.0   \n",
       "6489059                                    0.0   \n",
       "6489060                                    0.0   \n",
       "6489061                                    0.0   \n",
       "\n",
       "         DEPARTING_AIRPORT_Theodore_Francis_Green_State  \\\n",
       "0                                                   0.0   \n",
       "1                                                   0.0   \n",
       "2                                                   0.0   \n",
       "3                                                   0.0   \n",
       "4                                                   0.0   \n",
       "...                                                 ...   \n",
       "6489057                                             0.0   \n",
       "6489058                                             0.0   \n",
       "6489059                                             0.0   \n",
       "6489060                                             0.0   \n",
       "6489061                                             0.0   \n",
       "\n",
       "         DEPARTING_AIRPORT_Truax_Field  \\\n",
       "0                                  0.0   \n",
       "1                                  0.0   \n",
       "2                                  0.0   \n",
       "3                                  0.0   \n",
       "4                                  0.0   \n",
       "...                                ...   \n",
       "6489057                            0.0   \n",
       "6489058                            0.0   \n",
       "6489059                            0.0   \n",
       "6489060                            0.0   \n",
       "6489061                            0.0   \n",
       "\n",
       "         DEPARTING_AIRPORT_Tucson_International  \\\n",
       "0                                           0.0   \n",
       "1                                           0.0   \n",
       "2                                           0.0   \n",
       "3                                           0.0   \n",
       "4                                           0.0   \n",
       "...                                         ...   \n",
       "6489057                                     0.0   \n",
       "6489058                                     0.0   \n",
       "6489059                                     0.0   \n",
       "6489060                                     0.0   \n",
       "6489061                                     0.0   \n",
       "\n",
       "         DEPARTING_AIRPORT_Tulsa_International  \\\n",
       "0                                          0.0   \n",
       "1                                          0.0   \n",
       "2                                          0.0   \n",
       "3                                          0.0   \n",
       "4                                          0.0   \n",
       "...                                        ...   \n",
       "6489057                                    0.0   \n",
       "6489058                                    0.0   \n",
       "6489059                                    0.0   \n",
       "6489060                                    0.0   \n",
       "6489061                                    0.0   \n",
       "\n",
       "         DEPARTING_AIRPORT_Washington_Dulles_International  \\\n",
       "0                                                      0.0   \n",
       "1                                                      0.0   \n",
       "2                                                      0.0   \n",
       "3                                                      0.0   \n",
       "4                                                      0.0   \n",
       "...                                                    ...   \n",
       "6489057                                                0.0   \n",
       "6489058                                                0.0   \n",
       "6489059                                                0.0   \n",
       "6489060                                                0.0   \n",
       "6489061                                                0.0   \n",
       "\n",
       "         DEPARTING_AIRPORT_Will_Rogers_World  \\\n",
       "0                                        0.0   \n",
       "1                                        0.0   \n",
       "2                                        0.0   \n",
       "3                                        0.0   \n",
       "4                                        0.0   \n",
       "...                                      ...   \n",
       "6489057                                  0.0   \n",
       "6489058                                  0.0   \n",
       "6489059                                  0.0   \n",
       "6489060                                  0.0   \n",
       "6489061                                  0.0   \n",
       "\n",
       "         DEPARTING_AIRPORT_William_P_Hobby  principal_component  \n",
       "0                                      0.0            20.904699  \n",
       "1                                      0.0            20.904699  \n",
       "2                                      0.0            20.904699  \n",
       "3                                      0.0            20.904699  \n",
       "4                                      0.0            20.904699  \n",
       "...                                    ...                  ...  \n",
       "6489057                                0.0            65.651882  \n",
       "6489058                                0.0            65.651882  \n",
       "6489059                                0.0            65.651882  \n",
       "6489060                                0.0            65.651882  \n",
       "6489061                                0.0            65.651882  \n",
       "\n",
       "[6489062 rows x 154 columns]"
      ]
     },
     "execution_count": 73,
     "metadata": {},
     "output_type": "execute_result"
    }
   ],
   "source": [
    "delay_withPCA = delay_withPCA[['DEP_DEL15'] + [col for col in delay_withPCA.columns if col != 'DEP_DEL15']]\n",
    "delay_withPCA"
   ]
  },
  {
   "cell_type": "code",
   "execution_count": 75,
   "metadata": {},
   "outputs": [
    {
     "name": "stdout",
     "output_type": "stream",
     "text": [
      "DEP_DEL15\n",
      "MONTH\n",
      "DAY_OF_WEEK\n",
      "DISTANCE_GROUP\n",
      "SEGMENT_NUMBER\n",
      "CONCURRENT_FLIGHTS\n",
      "NUMBER_OF_SEATS\n",
      "AIRPORT_FLIGHTS_MONTH\n",
      "AIRLINE_FLIGHTS_MONTH\n",
      "AIRLINE_AIRPORT_FLIGHTS_MONTH\n",
      "AVG_MONTHLY_PASS_AIRPORT\n",
      "AVG_MONTHLY_PASS_AIRLINE\n",
      "FLT_ATTENDANTS_PER_PASS\n",
      "GROUND_SERV_PER_PASS\n",
      "PLANE_AGE\n",
      "PREVIOUS_AIRPORT\n",
      "PRCP\n",
      "SNOW\n",
      "SNWD\n",
      "TMAX\n",
      "AWND\n",
      "DEP_TIME_BLK_0001_0559\n",
      "DEP_TIME_BLK_0600_0659\n",
      "DEP_TIME_BLK_0700_0759\n",
      "DEP_TIME_BLK_0800_0859\n",
      "DEP_TIME_BLK_0900_0959\n",
      "DEP_TIME_BLK_1000_1059\n",
      "DEP_TIME_BLK_1100_1159\n",
      "DEP_TIME_BLK_1200_1259\n",
      "DEP_TIME_BLK_1300_1359\n",
      "DEP_TIME_BLK_1400_1459\n",
      "DEP_TIME_BLK_1500_1559\n",
      "DEP_TIME_BLK_1600_1659\n",
      "DEP_TIME_BLK_1700_1759\n",
      "DEP_TIME_BLK_1800_1859\n",
      "DEP_TIME_BLK_1900_1959\n",
      "DEP_TIME_BLK_2000_2059\n",
      "DEP_TIME_BLK_2100_2159\n",
      "DEP_TIME_BLK_2200_2259\n",
      "DEP_TIME_BLK_2300_2359\n",
      "CARRIER_NAME_Alaska_Airlines_Inc\n",
      "CARRIER_NAME_Allegiant_Air\n",
      "CARRIER_NAME_American_Airlines_Inc\n",
      "CARRIER_NAME_American_Eagle_Airlines_Inc\n",
      "CARRIER_NAME_Atlantic_Southeast_Airlines\n",
      "CARRIER_NAME_Comair_Inc\n",
      "CARRIER_NAME_Delta_Air_Lines_Inc\n",
      "CARRIER_NAME_Endeavor_Air_Inc\n",
      "CARRIER_NAME_Frontier_Airlines_Inc\n",
      "CARRIER_NAME_Hawaiian_Airlines_Inc\n",
      "CARRIER_NAME_JetBlue_Airways\n",
      "CARRIER_NAME_Mesa_Airlines_Inc\n",
      "CARRIER_NAME_Midwest_Airline,_Inc\n",
      "CARRIER_NAME_SkyWest_Airlines_Inc\n",
      "CARRIER_NAME_Southwest_Airlines_Co\n",
      "CARRIER_NAME_Spirit_Air_Lines\n",
      "CARRIER_NAME_United_Air_Lines_Inc\n",
      "DEPARTING_AIRPORT_Adams_Field\n",
      "DEPARTING_AIRPORT_Albany_International\n",
      "DEPARTING_AIRPORT_Albuquerque_International_Sunport\n",
      "DEPARTING_AIRPORT_Anchorage_International\n",
      "DEPARTING_AIRPORT_Atlanta_Municipal\n",
      "DEPARTING_AIRPORT_Austin___Bergstrom_International\n",
      "DEPARTING_AIRPORT_Birmingham_Airport\n",
      "DEPARTING_AIRPORT_Boise_Air_Terminal\n",
      "DEPARTING_AIRPORT_Bradley_International\n",
      "DEPARTING_AIRPORT_Charleston_International\n",
      "DEPARTING_AIRPORT_Chicago_Midway_International\n",
      "DEPARTING_AIRPORT_Chicago_OHare_International\n",
      "DEPARTING_AIRPORT_Cincinnati_Northern_Kentucky_International\n",
      "DEPARTING_AIRPORT_Cleveland_Hopkins_International\n",
      "DEPARTING_AIRPORT_Dallas_Fort_Worth_Regional\n",
      "DEPARTING_AIRPORT_Dallas_Love_Field\n",
      "DEPARTING_AIRPORT_Des_Moines_Municipal\n",
      "DEPARTING_AIRPORT_Detroit_Metro_Wayne_County\n",
      "DEPARTING_AIRPORT_Douglas_Municipal\n",
      "DEPARTING_AIRPORT_El_Paso_International\n",
      "DEPARTING_AIRPORT_Eppley_Airfield\n",
      "DEPARTING_AIRPORT_Fort_Lauderdale_Hollywood_International\n",
      "DEPARTING_AIRPORT_Friendship_International\n",
      "DEPARTING_AIRPORT_General_Mitchell_Field\n",
      "DEPARTING_AIRPORT_Greater_Buffalo_International\n",
      "DEPARTING_AIRPORT_Greenville_Spartanburg\n",
      "DEPARTING_AIRPORT_Hollywood_Burbank_Midpoint\n",
      "DEPARTING_AIRPORT_Honolulu_International\n",
      "DEPARTING_AIRPORT_Houston_Intercontinental\n",
      "DEPARTING_AIRPORT_Indianapolis_Muni_Weir_Cook\n",
      "DEPARTING_AIRPORT_Jacksonville_International\n",
      "DEPARTING_AIRPORT_James_M_Cox_Dayton_International\n",
      "DEPARTING_AIRPORT_John_F_Kennedy_International\n",
      "DEPARTING_AIRPORT_Kahului_Airport\n",
      "DEPARTING_AIRPORT_Kansas_City_International\n",
      "DEPARTING_AIRPORT_Keahole\n",
      "DEPARTING_AIRPORT_Kent_County\n",
      "DEPARTING_AIRPORT_LaGuardia\n",
      "DEPARTING_AIRPORT_Lambert_St_Louis_International\n",
      "DEPARTING_AIRPORT_Lihue_Airport\n",
      "DEPARTING_AIRPORT_Logan_International\n",
      "DEPARTING_AIRPORT_Long_Beach_Daugherty_Field\n",
      "DEPARTING_AIRPORT_Los_Angeles_International\n",
      "DEPARTING_AIRPORT_Louis_Armstrong_New_Orleans_International\n",
      "DEPARTING_AIRPORT_McCarran_International\n",
      "DEPARTING_AIRPORT_McGhee_Tyson\n",
      "DEPARTING_AIRPORT_Memphis_International\n",
      "DEPARTING_AIRPORT_Metropolitan_Oakland_International\n",
      "DEPARTING_AIRPORT_Miami_International\n",
      "DEPARTING_AIRPORT_Minneapolis_St_Paul_International\n",
      "DEPARTING_AIRPORT_Myrtle_Beach_International\n",
      "DEPARTING_AIRPORT_Nashville_International\n",
      "DEPARTING_AIRPORT_Newark_Liberty_International\n",
      "DEPARTING_AIRPORT_Norfolk_International\n",
      "DEPARTING_AIRPORT_Northwest_Arkansas_Regional\n",
      "DEPARTING_AIRPORT_Ontario_International\n",
      "DEPARTING_AIRPORT_Orange_County\n",
      "DEPARTING_AIRPORT_Orlando_International\n",
      "DEPARTING_AIRPORT_Palm_Beach_International\n",
      "DEPARTING_AIRPORT_Palm_Springs_International\n",
      "DEPARTING_AIRPORT_Pensacola_Regional\n",
      "DEPARTING_AIRPORT_Philadelphia_International\n",
      "DEPARTING_AIRPORT_Phoenix_Sky_Harbor_International\n",
      "DEPARTING_AIRPORT_Piedmont_Triad_International\n",
      "DEPARTING_AIRPORT_Pittsburgh_International\n",
      "DEPARTING_AIRPORT_Port_Columbus_International\n",
      "DEPARTING_AIRPORT_Portland_International\n",
      "DEPARTING_AIRPORT_Portland_International_Jetport\n",
      "DEPARTING_AIRPORT_Puerto_Rico_International\n",
      "DEPARTING_AIRPORT_Raleigh_Durham_International\n",
      "DEPARTING_AIRPORT_Reno_Tahoe_International\n",
      "DEPARTING_AIRPORT_Richmond_International\n",
      "DEPARTING_AIRPORT_Rochester_Monroe_County\n",
      "DEPARTING_AIRPORT_Ronald_Reagan_Washington_National\n",
      "DEPARTING_AIRPORT_Sacramento_International\n",
      "DEPARTING_AIRPORT_Salt_Lake_City_International\n",
      "DEPARTING_AIRPORT_San_Antonio_International\n",
      "DEPARTING_AIRPORT_San_Diego_International_Lindbergh_Fl\n",
      "DEPARTING_AIRPORT_San_Francisco_International\n",
      "DEPARTING_AIRPORT_San_Jose_International\n",
      "DEPARTING_AIRPORT_Sanford_NAS\n",
      "DEPARTING_AIRPORT_Savannah_Hilton_Head_International\n",
      "DEPARTING_AIRPORT_Seattle_International\n",
      "DEPARTING_AIRPORT_Southwest_Florida_International\n",
      "DEPARTING_AIRPORT_Spokane_International\n",
      "DEPARTING_AIRPORT_Standiford_Field\n",
      "DEPARTING_AIRPORT_Stapleton_International\n",
      "DEPARTING_AIRPORT_Syracuse_Hancock_International\n",
      "DEPARTING_AIRPORT_Tampa_International\n",
      "DEPARTING_AIRPORT_Theodore_Francis_Green_State\n",
      "DEPARTING_AIRPORT_Truax_Field\n",
      "DEPARTING_AIRPORT_Tucson_International\n",
      "DEPARTING_AIRPORT_Tulsa_International\n",
      "DEPARTING_AIRPORT_Washington_Dulles_International\n",
      "DEPARTING_AIRPORT_Will_Rogers_World\n",
      "DEPARTING_AIRPORT_William_P_Hobby\n",
      "principal_component\n"
     ]
    }
   ],
   "source": [
    "for i in delay_withPCA.columns:\n",
    "    print(i)"
   ]
  },
  {
   "cell_type": "markdown",
   "metadata": {},
   "source": [
    "## Save cleaned data as a new csv file"
   ]
  },
  {
   "cell_type": "code",
   "execution_count": null,
   "metadata": {},
   "outputs": [],
   "source": [
    "#      ADD NEWNAME to GITIGNORE!!!!!\n",
    "delay_withPCA.to_csv(\"./Resources/delay_clean.csv\", index = False)"
   ]
  },
  {
   "cell_type": "code",
   "execution_count": null,
   "metadata": {},
   "outputs": [],
   "source": []
  }
 ],
 "metadata": {
  "kernelspec": {
   "display_name": "mlenv",
   "language": "python",
   "name": "mlenv"
  },
  "language_info": {
   "codemirror_mode": {
    "name": "ipython",
    "version": 3
   },
   "file_extension": ".py",
   "mimetype": "text/x-python",
   "name": "python",
   "nbconvert_exporter": "python",
   "pygments_lexer": "ipython3",
   "version": "3.7.13"
  },
  "vscode": {
   "interpreter": {
    "hash": "ad4ab5c0c17bab5951f8b19f58e51037f1512bec5c403e9907439dacb79320c7"
   }
  }
 },
 "nbformat": 4,
 "nbformat_minor": 2
}
