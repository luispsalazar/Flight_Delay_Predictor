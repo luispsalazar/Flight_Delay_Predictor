{
 "cells": [
  {
   "cell_type": "code",
   "execution_count": 10,
   "id": "6f4bbb86",
   "metadata": {},
   "outputs": [],
   "source": [
    "import sys\n",
    "import csv\n",
    "from collections import defaultdict"
   ]
  },
  {
   "cell_type": "code",
   "execution_count": 11,
   "id": "43f65093",
   "metadata": {},
   "outputs": [],
   "source": [
    "def construct_line( label, line ):\n",
    "\tnew_line = []\n",
    "\tif float( label ) == 0.0:\n",
    "\t\tlabel = \"0\"\n",
    "\tnew_line.append( label )\n",
    "\n",
    "\tfor i, item in enumerate( line ):\n",
    "\t\tif item == '' or float( item ) == 0.0:\n",
    "\t\t\tcontinue\n",
    "\t\tnew_item = \"%s:%s\" % ( i + 1, item )\n",
    "\t\tnew_line.append( new_item )\n",
    "\tnew_line = \" \".join( new_line )\n",
    "\tnew_line += \"\\n\"\n",
    "\treturn new_line"
   ]
  },
  {
   "cell_type": "code",
   "execution_count": 12,
   "id": "c1dfad94",
   "metadata": {},
   "outputs": [],
   "source": [
    "#input_file = \"./Resources/delay_clean.csv\"\n",
    "#output_file = \"./Resources/delay_clean_SVM.txt\"\n",
    "\n",
    "input_file = \"./Resources/for_test.csv\"\n",
    "output_file = \"./Resources/for_test_SVM.txt\"\n",
    "\n",
    "try:\n",
    "\tlabel_index = int( sys.argv[3] )\n",
    "except IndexError:\n",
    "\tlabel_index = 0\n",
    "\n",
    "try:\n",
    "\tskip_headers = sys.argv[4]\n",
    "except IndexError:\n",
    "\tskip_headers = 1\n",
    "\n",
    "i = open( input_file, 'r' )\n",
    "o = open( output_file, 'w' )\n",
    "\n",
    "reader = csv.reader( i )\n",
    "\n",
    "if skip_headers:\n",
    "\theaders = next(reader)\n",
    "\n",
    "for line in reader:\n",
    "\tif label_index == -1:\n",
    "\t\tlabel = '1'\n",
    "\telse:\n",
    "\t\tlabel = line.pop( label_index )\n",
    "\n",
    "\tnew_line = construct_line( label, line )\n",
    "\to.write( new_line )"
   ]
  },
  {
   "cell_type": "code",
   "execution_count": null,
   "id": "07361190",
   "metadata": {},
   "outputs": [],
   "source": []
  }
 ],
 "metadata": {
  "kernelspec": {
   "display_name": "mlenv",
   "language": "python",
   "name": "mlenv"
  },
  "language_info": {
   "codemirror_mode": {
    "name": "ipython",
    "version": 3
   },
   "file_extension": ".py",
   "mimetype": "text/x-python",
   "name": "python",
   "nbconvert_exporter": "python",
   "pygments_lexer": "ipython3",
   "version": "3.7.13"
  }
 },
 "nbformat": 4,
 "nbformat_minor": 5
}
