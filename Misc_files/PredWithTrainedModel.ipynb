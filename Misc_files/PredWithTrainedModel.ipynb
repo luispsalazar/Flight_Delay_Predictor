{
 "cells": [
  {
   "cell_type": "code",
   "execution_count": null,
   "metadata": {
    "id": "cNni3_EuSUIv"
   },
   "outputs": [],
   "source": [
    "#################################################################\n",
    "# New untrained dataset must be named: \"new_data_clean_SVM.txt\" #\n",
    "#################################################################"
   ]
  },
  {
   "cell_type": "code",
   "execution_count": null,
   "metadata": {
    "colab": {
     "base_uri": "https://localhost:8080/"
    },
    "executionInfo": {
     "elapsed": 1253,
     "status": "ok",
     "timestamp": 1656697192083,
     "user": {
      "displayName": "Luis Patricio Salazar",
      "userId": "02880003874003724760"
     },
     "user_tz": 300
    },
    "id": "no3bWSg0BmBW",
    "outputId": "77c717ca-fe6c-48ef-e166-8540af571316"
   },
   "outputs": [
    {
     "name": "stdout",
     "output_type": "stream",
     "text": [
      "Drive already mounted at /content/drive; to attempt to forcibly remount, call drive.mount(\"/content/drive\", force_remount=True).\n"
     ]
    }
   ],
   "source": [
    "from google.colab import drive\n",
    "drive.mount('/content/drive')"
   ]
  },
  {
   "cell_type": "code",
   "execution_count": 87,
   "metadata": {
    "colab": {
     "base_uri": "https://localhost:8080/"
    },
    "executionInfo": {
     "elapsed": 247,
     "status": "ok",
     "timestamp": 1656703947771,
     "user": {
      "displayName": "Luis Patricio Salazar",
      "userId": "02880003874003724760"
     },
     "user_tz": 300
    },
    "id": "fvvZVsT2Bzjp",
    "outputId": "6a9bda45-0490-4b43-c516-a06dc5fc8d9a"
   },
   "outputs": [
    {
     "name": "stdout",
     "output_type": "stream",
     "text": [
      "drive\t     spark-3.1.1-bin-hadoop3.2\t    spark-3.1.1-bin-hadoop3.2.tgz.1\n",
      "sample_data  spark-3.1.1-bin-hadoop3.2.tgz\n"
     ]
    }
   ],
   "source": [
    "!ls"
   ]
  },
  {
   "cell_type": "code",
   "execution_count": null,
   "metadata": {
    "id": "z6LZBlJIB41i"
   },
   "outputs": [],
   "source": [
    "!apt-get install openjdk-8-jdk-headless -qq > /dev/null\n",
    "!wget -q http://archive.apache.org/dist/spark/spark-3.1.1/spark-3.1.1-bin-hadoop3.2.tgz\n",
    "!tar xf spark-3.1.1-bin-hadoop3.2.tgz\n",
    "!pip install -q findspark"
   ]
  },
  {
   "cell_type": "code",
   "execution_count": null,
   "metadata": {
    "id": "yndIHzWnOGVV"
   },
   "outputs": [],
   "source": [
    "import os\n",
    "os.environ[\"JAVA_HOME\"] = \"/usr/lib/jvm/java-8-openjdk-amd64\"\n",
    "os.environ[\"SPARK_HOME\"] = \"/content/spark-3.1.1-bin-hadoop3.2\""
   ]
  },
  {
   "cell_type": "code",
   "execution_count": null,
   "metadata": {
    "colab": {
     "base_uri": "https://localhost:8080/",
     "height": 219
    },
    "executionInfo": {
     "elapsed": 8,
     "status": "ok",
     "timestamp": 1656697192085,
     "user": {
      "displayName": "Luis Patricio Salazar",
      "userId": "02880003874003724760"
     },
     "user_tz": 300
    },
    "id": "axwWcb7YOMG5",
    "outputId": "13a09a77-9fbc-4313-c417-1b517f842766"
   },
   "outputs": [
    {
     "data": {
      "text/html": [
       "\n",
       "            <div>\n",
       "                <p><b>SparkSession - in-memory</b></p>\n",
       "                \n",
       "        <div>\n",
       "            <p><b>SparkContext</b></p>\n",
       "\n",
       "            <p><a href=\"http://d7959f6e7ba4:4040\">Spark UI</a></p>\n",
       "\n",
       "            <dl>\n",
       "              <dt>Version</dt>\n",
       "                <dd><code>v3.1.1</code></dd>\n",
       "              <dt>Master</dt>\n",
       "                <dd><code>local[*]</code></dd>\n",
       "              <dt>AppName</dt>\n",
       "                <dd><code>pyspark-shell</code></dd>\n",
       "            </dl>\n",
       "        </div>\n",
       "        \n",
       "            </div>\n",
       "        "
      ],
      "text/plain": [
       "<pyspark.sql.session.SparkSession at 0x7f29f1815310>"
      ]
     },
     "execution_count": 74,
     "metadata": {},
     "output_type": "execute_result"
    }
   ],
   "source": [
    "import findspark\n",
    "findspark.init()\n",
    "from pyspark.sql import SparkSession\n",
    "spark = SparkSession.builder.getOrCreate()\n",
    "spark.conf.set(\"spark.sql.repl.eagerEval.enabled\", True)\n",
    "spark"
   ]
  },
  {
   "cell_type": "code",
   "execution_count": null,
   "metadata": {
    "id": "v-R2JfHpXOzd"
   },
   "outputs": [],
   "source": [
    "from pyspark.ml import Pipeline\n",
    "from pyspark.ml.classification import GBTClassifier, GBTClassificationModel\n",
    "from pyspark.ml.feature import StringIndexer, VectorIndexer\n",
    "from pyspark.ml.evaluation import MulticlassClassificationEvaluator\n",
    "from pyspark.ml.pipeline import PipelineModel"
   ]
  },
  {
   "cell_type": "markdown",
   "metadata": {
    "id": "Sa-kSmpjXRQG"
   },
   "source": [
    "# Load trained model"
   ]
  },
  {
   "cell_type": "code",
   "execution_count": null,
   "metadata": {
    "id": "eHnJWWW2B4y2"
   },
   "outputs": [],
   "source": [
    "# Model's path\n",
    "\n",
    "model_path = \"./drive/\" + \"./MyDrive/\" + \"./SavedModels/\" + \"GBTmodel\""
   ]
  },
  {
   "cell_type": "code",
   "execution_count": null,
   "metadata": {
    "id": "G5ewFKOjN3wz"
   },
   "outputs": [],
   "source": [
    "# Load trained model\n",
    "\n",
    "loadedModel = PipelineModel.load(model_path)"
   ]
  },
  {
   "cell_type": "code",
   "execution_count": null,
   "metadata": {
    "id": "9iSskwv4N3uN"
   },
   "outputs": [],
   "source": [
    "# Load and parse the data file, converting it to a DataFrame\n",
    "clean = spark.read.format(\"libsvm\").load('/content/drive/MyDrive/Colab_Notebooks/new_data_clean_SVM.txt')"
   ]
  },
  {
   "cell_type": "code",
   "execution_count": null,
   "metadata": {
    "colab": {
     "base_uri": "https://localhost:8080/"
    },
    "executionInfo": {
     "elapsed": 5,
     "status": "ok",
     "timestamp": 1656697196571,
     "user": {
      "displayName": "Luis Patricio Salazar",
      "userId": "02880003874003724760"
     },
     "user_tz": 300
    },
    "id": "X2eSA--4N3rE",
    "outputId": "b85b27e5-179f-4afa-e117-141283f9300f"
   },
   "outputs": [
    {
     "data": {
      "text/plain": [
       "1"
      ]
     },
     "execution_count": 79,
     "metadata": {},
     "output_type": "execute_result"
    }
   ],
   "source": [
    "# Number of rows in dataset\n",
    "number_rows = clean.count()\n",
    "number_rows"
   ]
  },
  {
   "cell_type": "code",
   "execution_count": null,
   "metadata": {
    "colab": {
     "base_uri": "https://localhost:8080/"
    },
    "executionInfo": {
     "elapsed": 1320,
     "status": "ok",
     "timestamp": 1656697197888,
     "user": {
      "displayName": "Luis Patricio Salazar",
      "userId": "02880003874003724760"
     },
     "user_tz": 300
    },
    "id": "qukJgidQN3nb",
    "outputId": "cf125b64-ac50-4640-c42a-08d962191f97"
   },
   "outputs": [
    {
     "name": "stdout",
     "output_type": "stream",
     "text": [
      "+-----+-----+\n",
      "|label|count|\n",
      "+-----+-----+\n",
      "|  0.0|    1|\n",
      "+-----+-----+\n",
      "\n"
     ]
    }
   ],
   "source": [
    "clean.groupBy('label').count().show()"
   ]
  },
  {
   "cell_type": "code",
   "execution_count": null,
   "metadata": {
    "id": "tCV-zA1kPlai"
   },
   "outputs": [],
   "source": [
    "# Index labels, adding metadata to the label column\n",
    "# Fit on whole dataset to include all labels in index\n",
    "labelIndexer = StringIndexer(inputCol = \"label\", outputCol = \"indexedLabel\").fit(clean)"
   ]
  },
  {
   "cell_type": "code",
   "execution_count": null,
   "metadata": {
    "id": "0nqi0M5LPlXq"
   },
   "outputs": [],
   "source": [
    "# Automatically identify categorical features, and index them\n",
    "# Set maxCategories so features with > 4 distinct values are treated as continuous\n",
    "featureIndexer = VectorIndexer(inputCol = \"features\", outputCol = \"indexedFeatures\", maxCategories = 4).fit(clean)"
   ]
  },
  {
   "cell_type": "code",
   "execution_count": null,
   "metadata": {
    "id": "UxWesAokPlUS"
   },
   "outputs": [],
   "source": [
    "from pyspark.ml.feature import Normalizer"
   ]
  },
  {
   "cell_type": "code",
   "execution_count": null,
   "metadata": {
    "id": "bRi89wjuPx_G"
   },
   "outputs": [],
   "source": [
    "normalizer = Normalizer(inputCol = \"features\", outputCol = \"normFeatures\", p = 1.0)\n",
    "NormOutput = normalizer.transform(clean)"
   ]
  },
  {
   "cell_type": "code",
   "execution_count": null,
   "metadata": {
    "id": "1IM5s67IPWEv"
   },
   "outputs": [],
   "source": [
    "# Make predictions with loaded model\n",
    "\n",
    "predictions = loadedModel.transform(clean)"
   ]
  },
  {
   "cell_type": "code",
   "execution_count": null,
   "metadata": {
    "colab": {
     "base_uri": "https://localhost:8080/"
    },
    "executionInfo": {
     "elapsed": 265,
     "status": "ok",
     "timestamp": 1656697198903,
     "user": {
      "displayName": "Luis Patricio Salazar",
      "userId": "02880003874003724760"
     },
     "user_tz": 300
    },
    "id": "EF2UWPfYPWA0",
    "outputId": "66c1d8ab-48bc-4bb0-9034-64d5dcdb4e17"
   },
   "outputs": [
    {
     "name": "stdout",
     "output_type": "stream",
     "text": [
      "+----------+------------+--------------------+\n",
      "|prediction|indexedLabel|            features|\n",
      "+----------+------------+--------------------+\n",
      "|       0.0|         0.0|(153,[0,1,2,3,4,5...|\n",
      "+----------+------------+--------------------+\n",
      "\n"
     ]
    }
   ],
   "source": [
    "# Select example rows to display from prediction\n",
    "\n",
    "predictions.select(\"prediction\", \"indexedLabel\", \"features\").show()"
   ]
  },
  {
   "cell_type": "code",
   "execution_count": 88,
   "metadata": {
    "colab": {
     "base_uri": "https://localhost:8080/"
    },
    "executionInfo": {
     "elapsed": 254,
     "status": "ok",
     "timestamp": 1656703982457,
     "user": {
      "displayName": "Luis Patricio Salazar",
      "userId": "02880003874003724760"
     },
     "user_tz": 300
    },
    "id": "W0nrG4X8QGBE",
    "outputId": "1abbce3b-522d-4756-9259-941f86a32ddd"
   },
   "outputs": [
    {
     "data": {
      "text/plain": [
       "<function google.colab.drive.flush_and_unmount>"
      ]
     },
     "execution_count": 88,
     "metadata": {},
     "output_type": "execute_result"
    }
   ],
   "source": [
    "#drive.flush_and_unmount"
   ]
  }
 ],
 "metadata": {
  "colab": {
   "authorship_tag": "ABX9TyPwErkit282IdT5xnnP7Hq3",
   "collapsed_sections": [],
   "name": "PredWithTrainedModel.ipynb",
   "provenance": []
  },
  "kernelspec": {
   "display_name": "Python 3 (ipykernel)",
   "language": "python",
   "name": "python3"
  },
  "language_info": {
   "codemirror_mode": {
    "name": "ipython",
    "version": 3
   },
   "file_extension": ".py",
   "mimetype": "text/x-python",
   "name": "python",
   "nbconvert_exporter": "python",
   "pygments_lexer": "ipython3",
   "version": "3.7.13"
  }
 },
 "nbformat": 4,
 "nbformat_minor": 1
}
